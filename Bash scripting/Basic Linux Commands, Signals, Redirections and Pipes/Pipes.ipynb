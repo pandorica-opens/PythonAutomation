{
 "cells": [
  {
   "cell_type": "markdown",
   "metadata": {},
   "source": [
    "# Pipes\n",
    "\n",
    "### connect the output of one programm to the input of another in order to pass data between the programs\n",
    "\n"
   ]
  },
  {
   "cell_type": "code",
   "execution_count": 1,
   "metadata": {},
   "outputs": [
    {
     "name": "stdout",
     "output_type": "stream",
     "text": [
      "total 96\u001b[?1h\u001b=\n",
      "-rw-r--r--  1 Projects  staff  29888 Jan 14 02:04 Basic linux commands.ipynb\n",
      "-rw-r--r--  1 Projects  staff    801 Jan 14 17:08 Pipes.ipynb\n",
      "-rw-r--r--  1 Projects  staff     25 Jan 14 01:20 errors.txt\n",
      "-rw-r--r--  1 Projects  staff     18 Jan 14 01:15 output_file.txt\n",
      "-rw-r--r--  1 Projects  staff     17 Jan 14 01:22 print_script.py\n",
      "-rw-r--r--  1 Projects  staff      0 Jan 14 01:01 something_copied.txt\n",
      "-rw-r--r--  1 Projects  staff      0 Jan 14 01:01 something_else.txt\n",
      "\u001b[K\u001b[7m(END)\u001b[m\u001b[K"
     ]
    }
   ],
   "source": [
    "! ls -l | less ### displays one page at a time"
   ]
  },
  {
   "cell_type": "code",
   "execution_count": 6,
   "metadata": {},
   "outputs": [
    {
     "name": "stdout",
     "output_type": "stream",
     "text": [
      "heloiiii\r\n",
      "heloiiii\r\n"
     ]
    }
   ],
   "source": [
    "! cat output_file.txt"
   ]
  },
  {
   "cell_type": "markdown",
   "metadata": {},
   "source": [
    "#### show -> put each word in a separate line -> sort alphabeticaly -> number of times occured uniquily -> sorts reasults numerically in a reversed order-> head prints first 10 lines"
   ]
  },
  {
   "cell_type": "code",
   "execution_count": 3,
   "metadata": {},
   "outputs": [
    {
     "name": "stdout",
     "output_type": "stream",
     "text": [
      "   2 heloiiii\r\n"
     ]
    }
   ],
   "source": [
    "! cat output_file.txt | tr \" \" \"\\n\" | sort | uniq -c | sort -nr | head"
   ]
  },
  {
   "cell_type": "markdown",
   "metadata": {},
   "source": [
    "side remark: strip() removes new line at the end"
   ]
  },
  {
   "cell_type": "markdown",
   "metadata": {},
   "source": [
    "then we capitilize it!"
   ]
  },
  {
   "cell_type": "code",
   "execution_count": 5,
   "metadata": {},
   "outputs": [
    {
     "name": "stdout",
     "output_type": "stream",
     "text": [
      "Heloiiii\r\n",
      "Heloiiii\r\n"
     ]
    }
   ],
   "source": [
    "! cat output_file.txt | python capitalize.py"
   ]
  },
  {
   "cell_type": "code",
   "execution_count": null,
   "metadata": {},
   "outputs": [],
   "source": [
    "### can also use redirection"
   ]
  },
  {
   "cell_type": "code",
   "execution_count": 9,
   "metadata": {},
   "outputs": [
    {
     "name": "stdout",
     "output_type": "stream",
     "text": [
      "Heloiiii\r\n",
      "Heloiiii\r\n"
     ]
    }
   ],
   "source": [
    "! python capitalize.py < output_file.txt"
   ]
  },
  {
   "cell_type": "markdown",
   "metadata": {},
   "source": [
    "For bigger pipeline of commands - `grep`"
   ]
  },
  {
   "cell_type": "markdown",
   "metadata": {},
   "source": [
    "# Signals"
   ]
  },
  {
   "cell_type": "markdown",
   "metadata": {},
   "source": [
    "ctrl+c - terminate \n",
    "ctrl+z - stop running without terminating\n",
    "fg - continue running after ctrl+z\n",
    "kill (sends SIGTERM signal)\n",
    "PID - process identifier"
   ]
  },
  {
   "cell_type": "code",
   "execution_count": 15,
   "metadata": {},
   "outputs": [
    {
     "name": "stdout",
     "output_type": "stream",
     "text": [
      "  PID TTY           TIME CMD\r\n",
      " 4800 ttys000    0:00.05 -bash\r\n",
      "  505 ttys001    0:00.06 -bash\r\n",
      " 1953 ttys001    1:02.58 /anaconda3/bin/python /anaconda3/bin/jupyter-notebook\r\n",
      " 7441 ttys002    0:00.05 /bin/bash --rcfile /Applications/IntelliJ IDEA CE.app/\r\n"
     ]
    }
   ],
   "source": [
    "## processes that are running\n",
    "! ps "
   ]
  },
  {
   "cell_type": "code",
   "execution_count": 18,
   "metadata": {},
   "outputs": [
    {
     "name": "stdout",
     "output_type": "stream",
     "text": [
      "  839   ??  S      0:00.01 /bin/bash /usr/local/MacGPG2/libexec/shutdown-gpg-agent\r\n",
      " 4800 s000  S+     0:00.05 -bash\r\n",
      "  505 s001  S      0:00.06 -bash\r\n",
      " 7441 s002  Ss+    0:00.05 /bin/bash --rcfile /Applications/IntelliJ IDEA CE.app/Contents/plugins/terminal/jediterm-bash.in -i\r\n",
      "10783 s003  Ss+    0:00.01 /bin/bash -c  ps ax | grep bash\r\n",
      "10785 s003  S+     0:00.00 grep bash\r\n"
     ]
    }
   ],
   "source": [
    "## processes that are running\n",
    "! ps ax | grep bash"
   ]
  },
  {
   "cell_type": "code",
   "execution_count": 19,
   "metadata": {},
   "outputs": [],
   "source": [
    "### to kill the process in another terminal\n",
    "### kill 4800 - kill the 4800 s000  S+     0:00.05 -bash process with pid 4800\n",
    "### when finishing signam like this it does not give any output"
   ]
  },
  {
   "cell_type": "markdown",
   "metadata": {},
   "source": [
    "# Redirections, Pipes and Signals\n",
    "\n",
    "### redirectors that we can use to take control of the streams of our programs\n",
    "\n",
    "- command **>** file: redirects standard output, overwrites file\n",
    "\n",
    "- **command >> file**: redirects standard output, **appends to file**\n",
    "\n",
    "- command **<** file: redirects standard input from file\n",
    "\n",
    "- **command 2> file**: redirects standard error to file\n",
    "\n",
    "- **command1 | command2**: connects the output of command1 to the input of command2\n",
    "\n",
    "# Operating with processes\n",
    "\n",
    "### These are some commands that are useful to know in Linux when interacting with processes. Not all of them are explained in videos, so feel free to investigate them on your own.\n",
    "\n",
    "- ps: lists the processes executing in the current terminal for the current user\n",
    "\n",
    "- ps ax: lists all processes currently executing for all users  \n",
    "\n",
    "- ps e: shows the environment for the processes listed  \n",
    "\n",
    "- kill PID: sends the SIGTERM signal to the process identified by PID\n",
    "\n",
    "- fg: causes a job that was stopped or in the background to return to the foreground\n",
    "\n",
    "- bg: causes a job that was stopped to go to the background\n",
    "\n",
    "- jobs: lists the jobs currently running or stopped\n",
    "\n",
    "- top: shows the processes currently using the most CPU time (press \"q\" to quit)  "
   ]
  },
  {
   "cell_type": "code",
   "execution_count": null,
   "metadata": {},
   "outputs": [],
   "source": []
  }
 ],
 "metadata": {
  "kernelspec": {
   "display_name": "Python 3",
   "language": "python",
   "name": "python3"
  },
  "language_info": {
   "codemirror_mode": {
    "name": "ipython",
    "version": 3
   },
   "file_extension": ".py",
   "mimetype": "text/x-python",
   "name": "python",
   "nbconvert_exporter": "python",
   "pygments_lexer": "ipython3",
   "version": "3.7.3"
  }
 },
 "nbformat": 4,
 "nbformat_minor": 4
}
