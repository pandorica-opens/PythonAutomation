{
 "cells": [
  {
   "cell_type": "markdown",
   "metadata": {},
   "source": [
    "# Recap for Bash"
   ]
  },
  {
   "cell_type": "markdown",
   "metadata": {},
   "source": [
    ".sh - for bash script\n",
    "\n",
    "`echo; echo`\n",
    "\n",
    "is the same as\n",
    "\n",
    "`echo \n",
    " echo`"
   ]
  },
  {
   "cell_type": "code",
   "execution_count": 7,
   "metadata": {},
   "outputs": [],
   "source": [
    "! example=hello"
   ]
  },
  {
   "cell_type": "code",
   "execution_count": 4,
   "metadata": {},
   "outputs": [
    {
     "name": "stdout",
     "output_type": "stream",
     "text": [
      "/bin/bash: example: command not found\r\n"
     ]
    }
   ],
   "source": [
    "#but with spaces it would complain :)\n",
    "! example = hello"
   ]
  },
  {
   "cell_type": "code",
   "execution_count": 5,
   "metadata": {},
   "outputs": [
    {
     "name": "stdout",
     "output_type": "stream",
     "text": [
      "example\r\n"
     ]
    }
   ],
   "source": [
    "! echo example"
   ]
  },
  {
   "cell_type": "code",
   "execution_count": 8,
   "metadata": {},
   "outputs": [
    {
     "name": "stdout",
     "output_type": "stream",
     "text": [
      "\r\n"
     ]
    }
   ],
   "source": [
    "! echo $example\n",
    "### should output hello"
   ]
  },
  {
   "cell_type": "code",
   "execution_count": 10,
   "metadata": {},
   "outputs": [
    {
     "name": "stdout",
     "output_type": "stream",
     "text": [
      "Bash cheatsheet.ipynb\r\n"
     ]
    }
   ],
   "source": [
    "# all list of files\n",
    "! echo *"
   ]
  },
  {
   "cell_type": "code",
   "execution_count": 11,
   "metadata": {},
   "outputs": [
    {
     "name": "stdout",
     "output_type": "stream",
     "text": [
      "../Bash ../Basic Linux Commands, Signals, Redirections and Pipes\r\n"
     ]
    }
   ],
   "source": [
    "# all list of files in the upper directory\n",
    "! echo ../*"
   ]
  },
  {
   "cell_type": "markdown",
   "metadata": {},
   "source": [
    "- exit value of 0 menas success\n",
    "- if ..; then else condition can be used without indentation, with in if using i.e. grep command to find the line in a file"
   ]
  },
  {
   "cell_type": "code",
   "execution_count": 13,
   "metadata": {},
   "outputs": [
    {
     "name": "stdout",
     "output_type": "stream",
     "text": [
      "Your path is not empty\r\n"
     ]
    }
   ],
   "source": [
    "# checks if str variable is not empty\n",
    "! if test -n \"$PATH\"; then echo \"Your path is not empty\"; fi"
   ]
  },
  {
   "cell_type": "code",
   "execution_count": 18,
   "metadata": {},
   "outputs": [
    {
     "name": "stdout",
     "output_type": "stream",
     "text": [
      "Your path is not empty\r\n"
     ]
    }
   ],
   "source": [
    "# alias to test command : []\n",
    "# empty spaces with [ ] \n",
    "! if [ -n \"$PATH\" ]; then echo \"Your path is not empty\"; fi"
   ]
  },
  {
   "cell_type": "code",
   "execution_count": 15,
   "metadata": {},
   "outputs": [
    {
     "name": "stdout",
     "output_type": "stream",
     "text": [
      "/bin/bash: /anaconda3/bin:/anaconda3/condabin:/usr/local/bin:/usr/bin:/bin:/usr/sbin:/sbin:/Library/TeX/texbin:/usr/local/MacGPG2/bin:/Library/Frameworks/Mono.framework/Versions/Current/Commands:/Users/Projects/anaconda/bin:/opt/local/bin:/opt/local/sbin: No such file or directory\r\n"
     ]
    }
   ],
   "source": [
    "! \"$PATH\""
   ]
  },
  {
   "cell_type": "markdown",
   "metadata": {},
   "source": [
    "### Recap:\n",
    "\n",
    "- `Glob` - load this module in python script to take advantage of sectain commands like in bash\n",
    "\n",
    "The glob module finds all the pathnames matching a specified pattern according to the rules used by the Unix shell, although results are returned in arbitrary order. No tilde expansion is done, but *, ?, and character ranges expressed with `[]` will be correctly matched.\n",
    "\n",
    "- conditional execution is based on the exit status of commands\n",
    "\n",
    "- `test` command - evaluates the conditions recieved on exit to verify the exit status of 0 when conditions are true and 1 if they are false; the alias - `[]`\n",
    "\n",
    "`test` is used as part of the conditional execution of shell commands. `test` exits with the status determined by EXPRESSION. Placing the EXPRESSION between square brackets ([ and ]) is the same as testing the EXPRESSION with `test`"
   ]
  },
  {
   "cell_type": "markdown",
   "metadata": {},
   "source": [
    "### Extra reading\n",
    "\n",
    "https://linuxconfig.org/bash-scripting-tutorial-for-beginners"
   ]
  },
  {
   "cell_type": "markdown",
   "metadata": {},
   "source": [
    "# Loops in bash\n",
    "\n",
    "\n",
    "#### while\n",
    "\n",
    "```bash\n",
    "while [ $n -le 5 ]; do\n",
    " echo \"Iteration number $n\"\n",
    " ((n+=1))\n",
    "```\n",
    " \n",
    " (while number of iterations is smaller than 5)\n",
    " \n",
    "\n",
    "- switch to current dir\n",
    "- chmod +x while.sh\n",
    "- ./while.sh\n",
    "\n",
    "#### Output:\n",
    "\n",
    "Iteration number 1\n",
    "\n",
    "Iteration number 2\n",
    "\n",
    "Iteration number 3\n",
    "\n",
    "Iteration number 4\n",
    "\n",
    "Iteration number 5\n",
    " \n",
    "#### command line arguments\n",
    "\n",
    "`command = $1` - the way to access first command line arguement in bash\n",
    "\n",
    " \n",
    "#### for\n",
    "\n",
    "```bash\n",
    "for fruit in peach orange apple; do\n",
    "    echo \"I like $fruit\"\n",
    "done\n",
    "```\n",
    "\n",
    "\n",
    "#### globs ?, *\n",
    "basename - retuns file without extension (index.html -> index)\n",
    "\n",
    "```bash\n",
    "for file in *.html; do\n",
    "    name=$(basename \"$file\" .html) # enabling even if file has spaces (surrounding with \" \")\n",
    "    mv \"$file\" \"$name.html\"\n",
    "done\n",
    "```\n",
    "\n"
   ]
  },
  {
   "cell_type": "markdown",
   "metadata": {},
   "source": [
    "A good practice not to actually rename the files (not to modify the file system), but first run `echo`:\n",
    "instead of actually renaming, the script would print what it plans to do\n",
    "\n",
    "```bash\n",
    "for file in *.html; do\n",
    "    name=$(basename \"$file\" .html) # enabling even if file has spaces (surrounding with \" \")\n",
    "    echo mv \"$file\" \"$name.html\"\n",
    "done\n",
    "```"
   ]
  },
  {
   "cell_type": "markdown",
   "metadata": {},
   "source": [
    "Uncomment capture if we want to see output :)"
   ]
  },
  {
   "cell_type": "code",
   "execution_count": 28,
   "metadata": {},
   "outputs": [],
   "source": [
    "%%capture \n",
    "# tail command - print last 10 lines of file - check what is logged the most under the workload\n",
    "# syslog = system.log on mac\n",
    "! tail /var/log/system.log"
   ]
  },
  {
   "cell_type": "code",
   "execution_count": 29,
   "metadata": {},
   "outputs": [],
   "source": [
    "%%capture \n",
    "# here we print the sorted in the number of repetitions files\n",
    "# starts with 5th arg: com.apple.xpc.launchd[1]\n",
    "! tail /var/log/system.log | cut -d' ' -f5- | sort | uniq -c | sort -nr | head"
   ]
  },
  {
   "cell_type": "markdown",
   "metadata": {},
   "source": [
    "### When bash scripts becomre too complex and unreadable, we can use python scripts that are easier testible! Bash is not so flexible, but is OS dependent -> not possible to use on multi-platform."
   ]
  },
  {
   "cell_type": "code",
   "execution_count": null,
   "metadata": {},
   "outputs": [],
   "source": []
  }
 ],
 "metadata": {
  "kernelspec": {
   "display_name": "Python 3",
   "language": "python",
   "name": "python3"
  },
  "language_info": {
   "codemirror_mode": {
    "name": "ipython",
    "version": 3
   },
   "file_extension": ".py",
   "mimetype": "text/x-python",
   "name": "python",
   "nbconvert_exporter": "python",
   "pygments_lexer": "ipython3",
   "version": "3.7.3"
  }
 },
 "nbformat": 4,
 "nbformat_minor": 4
}
