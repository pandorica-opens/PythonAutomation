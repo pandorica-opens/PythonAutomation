{
 "cells": [
  {
   "cell_type": "markdown",
   "metadata": {},
   "source": [
    "## The Scenario\n",
    "\n",
    "Your coworker Jane Doe currently has the username \"jane\" but she needs to it to \"jdoe\" to comply with your company's naming policy. This username change has already been done. However, some files that were named with Jane's previous username \"jane\" haven't been updated. For example, \"jane_profile_07272018.doc\" needs to be updated to \"jdoe_profile_07272018.doc\"."
   ]
  },
  {
   "cell_type": "markdown",
   "metadata": {},
   "source": [
    "### Recap"
   ]
  },
  {
   "cell_type": "markdown",
   "metadata": {},
   "source": [
    "**cat**\n",
    "\n",
    "**grep**\n",
    "\n",
    "**grep** command, which stands for \"global regular expression print\", processes text line-by-line and prints any lines that match a specified pattern.\n",
    "\n",
    "Syntax:\n",
    "\n",
    "grep [pattern] [file-directory]\n",
    "\n",
    "**cut**\n",
    "\n",
    "The **cut** command extracts a given number of characters or columns from a file. A delimiter is a character or set of characters that separate text strings.\n",
    "\n",
    "#### Syntax:\n",
    "\n",
    "#### cut [options] [file]\n",
    "\n",
    "For delimiter separated fields, the - d option is used. The -f option specifies the field, a set of fields, or a range of fields to be extracted.\n",
    "\n",
    "#### Syntax:\n",
    "\n",
    "#### cut -d [delimiter] -f [field number]\n"
   ]
  },
  {
   "cell_type": "markdown",
   "metadata": {},
   "source": [
    "### Linux I/O Redirection\n",
    "\n",
    "Redirection is defined as switching standard streams of data from either a user-specified source or user-specified destination. Here are the following streams used in I/O redirection:\n",
    "\n",
    "#### Redirection into a file using >\n",
    "\n",
    "#### Append using >>\n",
    "\n",
    "### Redirection into a file\n",
    "\n",
    "Each stream uses redirection commands. A single greater than sign (>) or a double greater than sign (>>) can be used to redirect standard output. If the target file doesn't exist, a new file with the same name will be created.\n",
    "\n",
    "Commands with a single greater than sign (>) overwrite existing file content.\n",
    "\n",
    "**cat > [file]**\n",
    "Commands with a double greater than sign (>>) do not overwrite the existing file content, but it will append to it.\n",
    "\n",
    "**cat >> [file]**\n",
    "So, rather than creating a file, the >> command is used to append a word or string to the existing file.\n",
    "\n"
   ]
  },
  {
   "cell_type": "markdown",
   "metadata": {},
   "source": [
    "#### all files with pattern jane (but also janez)\n",
    "grep 'jane' ../data/list.txt\n",
    "\n",
    "#### all files with pattern just jane\n",
    "grep ' jane ' ../data/list.txt\n",
    "\n",
    "#### fetch results by specifying the fields using -f option - with cut command, we'll use the whitespace character (‘ ‘) as a delimiter (denoted by -d) since the text strings are separated by spaces within the list.txt file\n",
    "\n",
    "grep \" jane \" ../data/list.txt | cut -d ' ' -f 1\n",
    "\n",
    "`001\n",
    "005\n",
    "008`\n",
    "\n",
    "\n",
    "grep \" jane \" ../data/list.txt | cut -d ' ' -f 2\n",
    "\n",
    "`jane\n",
    "jane\n",
    "jane`\n",
    "\n",
    "grep \" jane \" ../data/list.txt | cut -d ' ' -f 3\n",
    "\n",
    "`/data/jane_profile_07272018.doc\n",
    "/data/jane_pic_07282018.jpg\n",
    "/data/jane_contact_07292018.csv`\n",
    "\n",
    "grep \" jane \" ../data/list.txt | cut -d ' ' -f 1-3\n",
    "\n",
    "`001 jane /data/jane_profile_07272018.doc\n",
    "005 jane /data/jane_pic_07282018.jpg\n",
    "008 jane /data/jane_contact_07292018.csv`\n",
    "\n",
    "\n",
    "grep \" jane \" ../data/list.txt | cut -d ' ' -f 1,3\n",
    "\n",
    "`001 /data/jane_profile_07272018.doc\n",
    "005 /data/jane_pic_07282018.jpg\n",
    "008 /data/jane_contact_07292018.csv`\n"
   ]
  },
  {
   "cell_type": "markdown",
   "metadata": {},
   "source": [
    "We can use the **test** command to test for the presence of a file. The command **test** is a command-line utility on Unix-like operating systems that evaluates conditional expressions.\n",
    "\n",
    "The syntax for this command is:\n",
    "\n",
    "**test EXPRESSION**\n",
    "We'll use this command to check if a particular file is present in the file system. We do this by using the -e flag. This flag takes a filename as a parameter and returns True if the file exists.\n",
    "\n",
    "```bash\n",
    "! if test -e ~/data/jane_profile_07272018.doc; then echo \"File exists\"; else echo \"File doesn't exist\"; fi\n",
    "```"
   ]
  },
  {
   "cell_type": "markdown",
   "metadata": {},
   "source": [
    "Let's create a file named test.txt using the redirection operator.\n",
    "\n",
    "`> test.txt`"
   ]
  },
  {
   "cell_type": "markdown",
   "metadata": {},
   "source": [
    "To append any string to the test.txt file, you can use another redirection operator (>>).\n",
    "\n",
    "```bash\n",
    "echo \"I am appending text to this test file\" >> test.txt\n",
    "```"
   ]
  },
  {
   "cell_type": "markdown",
   "metadata": {},
   "source": [
    "iterate over a set of items and print those items:\n",
    "\n",
    "```bash\n",
    "for i in 1 2 3; do echo $i; done\n",
    "```"
   ]
  },
  {
   "cell_type": "markdown",
   "metadata": {},
   "source": [
    "### bash script to save only the files that do exist\n",
    "\n",
    "- current directory - $PWD"
   ]
  },
  {
   "cell_type": "markdown",
   "metadata": {},
   "source": [
    "```bash\n",
    "#!/bin/bash\n",
    "\n",
    "> oldFiles.txt\n",
    "\n",
    "files=$(grep ' jane ' ../data/list.txt | cut -d ' ' -f 3 -s) #--output-delimiter='/n')\n",
    "\n",
    "echo $files\n",
    "cd ..\n",
    "echo $PWD\n",
    "\n",
    "for file in $files; do\n",
    "        echo $PWD$file\n",
    "        if test -e  $PWD$file; then echo $PWD$file >> scripts/oldFiles.txt; echo 'exists'; else echo \"File doesn't exist\"; fi ; done\n",
    "```"
   ]
  },
  {
   "cell_type": "markdown",
   "metadata": {},
   "source": [
    "### replacing \"jane\" -< \"jdoe\" and using the subprocesses mv\n",
    "- after reading the file the \"reader\" stays at the last line -> `file.seek(0)`"
   ]
  },
  {
   "cell_type": "markdown",
   "metadata": {},
   "source": [
    "```python\n",
    "#!/usr/bin/env python3\n",
    "\n",
    "import sys\n",
    "import subprocess\n",
    "\n",
    "print(sys.argv[1])\n",
    "\n",
    "with open(sys.argv[1]) as file:\n",
    "        changed = file.read().replace('jane', 'jdoe')\n",
    "        file.seek(0)\n",
    "        original = file.read()\n",
    "        print(original)\n",
    "        print(changed)\n",
    "        for f, fo in zip(changed.split('\\n'), original.split('\\n')):\n",
    "               print(f)\n",
    "               print(fo)\n",
    "               try:\n",
    "                        subprocess.run([\"mv\", fo, f])\n",
    "               except:\n",
    "                        print('! file does not exist')\n",
    "                    \n",
    "```"
   ]
  },
  {
   "cell_type": "code",
   "execution_count": null,
   "metadata": {},
   "outputs": [],
   "source": []
  }
 ],
 "metadata": {
  "kernelspec": {
   "display_name": "Python 3",
   "language": "python",
   "name": "python3"
  },
  "language_info": {
   "codemirror_mode": {
    "name": "ipython",
    "version": 3
   },
   "file_extension": ".py",
   "mimetype": "text/x-python",
   "name": "python",
   "nbconvert_exporter": "python",
   "pygments_lexer": "ipython3",
   "version": "3.7.3"
  }
 },
 "nbformat": 4,
 "nbformat_minor": 4
}
