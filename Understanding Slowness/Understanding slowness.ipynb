{
 "cells": [
  {
   "cell_type": "markdown",
   "metadata": {},
   "source": [
    "# General strategy:\n",
    "    - identify the bottleneck - with elimination (easiest first)\n",
    "    - bottleneck can be i.e. the CPU time, reading data from disk, waiting for data, disk space \n",
    "    - hardware is not good enough for application (but we need ot improve the bottleneck like that) -> monitor the usage of resources -> identify the bottleneck that is blocking "
   ]
  },
  {
   "cell_type": "markdown",
   "metadata": {},
   "source": [
    "## First step \n",
    "- open one of those tools and find the bottleneck:\n",
    "\n",
    "#### Linux - `top`, `iotop`, `iftop`\n",
    "\n",
    "#### Mac OS - activity monitor\n",
    "\n",
    "#### Windows - resource monitor, performance monitor"
   ]
  },
  {
   "cell_type": "markdown",
   "metadata": {},
   "source": [
    "Making things faster:\n",
    "    \n",
    "#### - Hierarchy of \"slowness\": variable currently used (CPU internal memory - fast) < data related to the running programm, but not the currently executed function (RAM - still fast) < file (disk, much slower) << reading over the network (the worse)\n",
    "- if process requires reading the data from the network maybe try to store it on disk and then read it from disk\n",
    "\n",
    "- if repeatedly the process is loading smth from disk, to see if it's possible to put info directly in process memory (cash - stores data in form of data that is faster to acess than its original form)\n",
    "    "
   ]
  },
  {
   "cell_type": "markdown",
   "metadata": {},
   "source": [
    "Examples of cashed: \n",
    "\n",
    "- web-proxy (stored the images that are often view by users behind the proxy)\n",
    "- DNS - local cahs for the websited they resolve - no need to query for IP adress every time it is requested \n",
    "- OS: tries to keep as much info as possible in RAM so we can acess it quickly; = \"cashed in memory\" - if data is part of the programm that is currently running it will be in RAM -> limited -> OS removes everything that is cached, but not strictly nessessary -> then the ones that are not currently in use in `swap` - onto the hard drive-> can spend a lot of time to read/write from disk with swapping\n",
    "   - swapping general idea (even though implementation is quite different form one os to another) - info that is not needed rn is removed from RAM and put onto the disk while the information that is needed now is put inot the RAM"
   ]
  },
  {
   "cell_type": "markdown",
   "metadata": {},
   "source": [
    "What to do if machiene is slow because of swapping:\n",
    "\n",
    "- `close the ones apps` not needed\n",
    "- add `more RAM` to the computer\n",
    "- one of the running programms has a `memory leak`, which causes it to take all of the avaliable memory; `memory leak` - the memory that is not longer needed is not getting released"
   ]
  },
  {
   "cell_type": "markdown",
   "metadata": {},
   "source": [
    "Some examples:\n",
    "- if problem goes away with reboot -> computer keeps some state while runnig -> i.e. storing data in memory without deleting it -> runs out of RAM -> change the code that frees the memory used\n",
    "- slow when starting up -> i.e. lots of the programms starting up with start -> disable the ones that are not needed\n",
    "- filed that application have grouwn are too large (not solved by reboot) -> bug in the design -> reduce the size of files involves -> if big file are logs, use `Logrotate`\n",
    "- use subset of users to see if replicates\n",
    "- hardware failures , i.e. hard drive -> run checks\n",
    "- malicious software - i.e. malicious browser extensions | scripts to mine for cryptocurrency"
   ]
  },
  {
   "cell_type": "code",
   "execution_count": 6,
   "metadata": {},
   "outputs": [
    {
     "name": "stdout",
     "output_type": "stream",
     "text": [
      "This is ApacheBench, Version 2.3 <$Revision: 1826891 $>\n",
      "Copyright 1996 Adam Twiss, Zeus Technology Ltd, http://www.zeustech.net/\n",
      "Licensed to The Apache Software Foundation, http://www.apache.org/\n",
      "\n",
      "Benchmarking google.com (be patient)\n",
      "Completed 100 requests\n",
      "Completed 200 requests\n",
      "Completed 300 requests\n",
      "Completed 400 requests\n",
      "Completed 500 requests\n",
      "Finished 500 requests\n",
      "\n",
      "\n",
      "Server Software:        gws\n",
      "Server Hostname:        google.com\n",
      "Server Port:            443\n",
      "SSL/TLS Protocol:       TLSv1.2,ECDHE-ECDSA-CHACHA20-POLY1305,256,256\n",
      "TLS Server Name:        google.com\n",
      "\n",
      "Document Path:          /\n",
      "Document Length:        220 bytes\n",
      "\n",
      "Concurrency Level:      1\n",
      "Time taken for tests:   37.051 seconds\n",
      "Complete requests:      500\n",
      "Failed requests:        0\n",
      "Non-2xx responses:      500\n",
      "Total transferred:      354000 bytes\n",
      "HTML transferred:       110000 bytes\n",
      "Requests per second:    13.49 [#/sec] (mean)\n",
      "Time per request:       74.102 [ms] (mean)\n",
      "Time per request:       74.102 [ms] (mean, across all concurrent requests)\n",
      "Transfer rate:          9.33 [Kbytes/sec] received\n",
      "\n",
      "Connection Times (ms)\n",
      "              min  mean[+/-sd] median   max\n",
      "Connect:       34   52  36.7     42     368\n",
      "Processing:    17   22  10.4     20     132\n",
      "Waiting:       17   21  10.3     20     131\n",
      "Total:         53   74  38.4     63     386\n",
      "\n",
      "Percentage of the requests served within a certain time (ms)\n",
      "  50%     63\n",
      "  66%     67\n",
      "  75%     70\n",
      "  80%     76\n",
      "  90%     89\n",
      "  95%    136\n",
      "  98%    215\n",
      "  99%    303\n",
      " 100%    386 (longest request)\n"
     ]
    }
   ],
   "source": [
    "# checking 500 requests - and there are ways more options to pass - tests at one time, timeout, etc\n",
    "# Time per request:       74.102 [ms] (mean)\n",
    "! ab -n 500 https://google.com/"
   ]
  },
  {
   "cell_type": "code",
   "execution_count": 9,
   "metadata": {},
   "outputs": [
    {
     "name": "stdout",
     "output_type": "stream",
     "text": [
      "\u001b[?1l\u001b>43  mdworker_sha 0.0  00:00.06 3     1    50+   2872K+ 0B     2636K+ 53745out\u001b[7;1HNetworks: packets: 69881756/64G in, 51968905/28G out.\u001b[1;23H6\u001b[1;36H1\u001b[1;50H63\u001b[27C5\u001b[2;41H1.10\u001b[2;54H0.19\u001b[2;66H8.69\u001b[5;13H6\u001b[5;24H43\u001b[5;37H5\u001b[7;25H970\u001b[7;41H9140\u001b[8;33H553\u001b[11;21H8.9\u001b[6C1.03\u001b[11;46H25+   5944\u001b[12;21H1.6\u001b[12;32H41 14\u001b[12;47H31+  22M-\u001b[12;64H \u001b[13;48H \u001b[13;57H \u001b[14;48H \u001b[14;57H \u001b[15;35H3     2    68-\u001b[6C-\u001b[16;49H   13M \u001b[17;48H \u001b[17;57H \u001b[18;49H \u001b[7C \u001b[18;71H \u001b[19;48H \u001b[19;57H \u001b[19;71H \u001b[20;49H \u001b[7C \u001b[20;71H \u001b[21;21H3.1\u001b[21;32H97\u001b[21;48H \u001b[21;57H \u001b[21;71H \u001b[22;48H \u001b[7C \u001b[22;70H \u001b[23;48H \u001b[23;57H \u001b[23;70H \u001b[24;48H \u001b[24;57H \u001b[24;71H \u001b[5C\u001b[1;23H5\u001b[1;36H2\u001b[1;50H52\u001b[27C6\u001b[2;11H7.92, 9.38, 8.79\u001b[2;41H5.68\u001b[2;53H29.25\u001b[2;66H5.6\u001b[1P\u001b[5;11H089\u001b[5;24H29\u001b[5;36H103M unused.\u001b[951(64) swapins, 98601139(0) swapou\u001b[7;24H2189\u001b[7;42H398\u001b[8;15H5\u001b[8;35H6\u001b[11;23H1\u001b[11;32H12\u001b[11;48H    5992\u001b[12;21H0.0\u001b[12;49H   22M \u001b[15;48H \u001b[6C \u001b[21;21H8.5\u001b[6C6.0\u001b[24;77H\u001b[24;1H\u001b[2J\u001b[?47l\u001b8"
     ]
    }
   ],
   "source": [
    "# top if we have the access to the server\n",
    "! top"
   ]
  },
  {
   "cell_type": "markdown",
   "metadata": {},
   "source": [
    "- change the priorities for the processes 0 (highest) to 19 (lowest)\n",
    "- `nice` - for changing the priority\n",
    "- `renice` - for the process that is already running\n",
    "- `pidof` - recieved process name and returns all the process IDs"
   ]
  },
  {
   "cell_type": "markdown",
   "metadata": {},
   "source": [
    "#### lower the priority of the running process:\n",
    "```bash\n",
    "for pid in $(pidof process)name; do renice 19 $pid; done\n",
    "```"
   ]
  },
  {
   "cell_type": "markdown",
   "metadata": {},
   "source": [
    "If it did not work (with ab -n 500), see how the processes got started\n",
    "If it gives to the process still too much time, we can check further: running those CPU-intensive processes in parallel is overloading -> we could modify, what is triggering them and make them run one after the other instead of all runnig at the same time -> let's check how it has started -> ! ps"
   ]
  },
  {
   "cell_type": "code",
   "execution_count": 13,
   "metadata": {},
   "outputs": [],
   "source": [
    "%%capture\n",
    "# get info about the processes: all the running processes on the computer\n",
    "! ps ax\n",
    "# or to be able to scroll\n",
    "! ps ax | less"
   ]
  },
  {
   "cell_type": "markdown",
   "metadata": {},
   "source": [
    "In using `less`: `\\` is the search key: i.e. `\\process_name` + enter would output the appearences of the processes"
   ]
  },
  {
   "cell_type": "markdown",
   "metadata": {},
   "source": [
    "`locate` - to see if we can find the file: i.e.\n",
    "`! locate static/001.webm`\n",
    "\n",
    "`grep process_name *` - would output the processes connected ot it\n",
    "\n",
    "`vim` - another command line editor\n",
    "\n",
    "edit `daemonize` - part that runs the processes in parallel like if daemons -> only one video conversion at a time -> this would not change those processes that are already running ->\n",
    "\n",
    "` kill -STOP process_name` - stops the processes but does not kill processes completely -> for each command:\n",
    "\n",
    "- ```bash\n",
    "for pid in $(pidof process_name); do while kill -CONT $pid; do sleep 1; done; done\n",
    "```\n",
    "\n",
    "       -(as there is no command to wait until the process finishes, use while loop)"
   ]
  },
  {
   "cell_type": "markdown",
   "metadata": {},
   "source": [
    "### More information:\n",
    "\n",
    "https://docs.microsoft.com/en-us/sysinternals/downloads/procmon \n",
    "\n",
    "http://www.brendangregg.com/linuxperf.html\n",
    "\n",
    "http://brendangregg.com/usemethod.html\n",
    "\n",
    "Activity Monitor in Mac: \n",
    "\n",
    "https://support.apple.com/guide/activity-monitor/welcome/mac\n",
    "\n",
    "Performance Monitor on Windows: \n",
    "\n",
    "https://www.windowscentral.com/how-use-performance-monitor-windows-10\n",
    "\n",
    "https://www.digitalcitizen.life/how-use-resource-monitor-windows-7\n",
    "\n",
    "https://docs.microsoft.com/en-us/sysinternals/downloads/process-explorer\n",
    "\n",
    "https://en.wikipedia.org/wiki/Cache_(computing)\n",
    "\n",
    "https://www.reddit.com/r/linux/comments/d7hx2c/why_nice_levels_are_a_placebo_and_have_been_for_a/"
   ]
  },
  {
   "cell_type": "code",
   "execution_count": null,
   "metadata": {},
   "outputs": [],
   "source": []
  }
 ],
 "metadata": {
  "kernelspec": {
   "display_name": "Python 3",
   "language": "python",
   "name": "python3"
  },
  "language_info": {
   "codemirror_mode": {
    "name": "ipython",
    "version": 3
   },
   "file_extension": ".py",
   "mimetype": "text/x-python",
   "name": "python",
   "nbconvert_exporter": "python",
   "pygments_lexer": "ipython3",
   "version": "3.7.3"
  }
 },
 "nbformat": 4,
 "nbformat_minor": 4
}
