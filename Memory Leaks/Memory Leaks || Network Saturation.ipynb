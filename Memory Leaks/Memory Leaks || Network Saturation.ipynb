{
 "cells": [
  {
   "cell_type": "markdown",
   "metadata": {},
   "source": [
    "## Memory Leaks\n",
    "\n",
    "#### Application need to store data in memory: processes request chunk of memory and later release it\n",
    "\n",
    "#### Memory leak\n",
    "\n",
    "- a chunk of memory that's no longer needed is not released\n",
    "\n",
    "#### Different management of memory\n",
    "\n",
    "- **C, C++** = we manage memory manually\n",
    "\n",
    "- **Python, Go, Java** = manage memory for us (but things still can go wrong)\n",
    "\n",
    "#### Garbage collector\n",
    "\n",
    "- in charge of freeing the memory that is no longer in use\n",
    "- won't release the memory, if the memory assigned to the variable is still in use (garbage collector can't release it)\n",
    "\n",
    "#### If we suspect program has memory leak\n",
    "\n",
    "- inspect whether the program uses more and more memory with time (pretty liekly that has memory leak) or app uses a lot of memory even after restart\n",
    "\n",
    "- Use **memory profilers**\n",
    "    - Valgrind (C, C++)\n",
    "    - (Python)\n",
    "\n",
    "\n",
    "- **uxterm** - trigger misbehaviour: has really small scroll buffer: feature that lets us scroll up and see the things that we executed and their output\n",
    "\n",
    "    - od -cx /dev/urandom\n",
    "    - top (schift + M - to order in how much memory we are using)\n",
    "    - columns: **RES - dynamic memory that is preserved for the dynamic process** - usually indicates the problem, **VIRT - all virtual memory allocated for each process** - normal to have high value, **SHR - memory that is shared across processes**"
   ]
  },
  {
   "cell_type": "markdown",
   "metadata": {},
   "source": [
    "## Network Saturation"
   ]
  },
  {
   "cell_type": "markdown",
   "metadata": {},
   "source": [
    "### 2 factors: Latency and bandwidth\n",
    "    \n",
    "- The **latency** is the delay between sending a byte of data from one point and receiving it on the other. This value is directly affected by the physical distance between the two points and how many intermediate devices there are between them. \n",
    "\n",
    "- The **bandwidth** is how much data can be sent or received in a second. This is effectively the data capacity of the connection. \n",
    "\n",
    "\n",
    "Internet connections are usually sold by the amount of bandwidth the customer will see. But it's important to know that the usable bandwidth to transmit data to and from a network service will be **determined by the available bandwidth at each endpoint and every hop between them**. \n",
    "\n",
    "- remember that if you're transmitting a lot of small pieces of data, you care more about latency than bandwidth; In this case, you want to make sure that the server is as close as possible to the users of the service, aiming for a latency of less than 50 milliseconds if possible, and up to a 100 milliseconds in the worst-case. \n",
    "\n",
    "- if you're transmitting large chunks of data, you care more about the bandwidth than the latency. In this case, you want to have as much bandwidth available as possible regardless of where the server is hosted. \n",
    "\n",
    "#### What do we mean by bandwidth available? \n",
    "\n",
    "- Computers can transmit data to and from many different points of the Internet at the same time, but all those separate connections share the same bandwidth. Each connection will get a portion of the bandwidth, but the split isn't necessarily even. If one connection is transmitting a lot of data, there may be no bandwidth left for the other connections. When these traffic jams happen, the latency can increase a lot because packets might get held back until there's enough bandwidth to send them -> **careful with how you share it among its users**. \n",
    "\n",
    "\n",
    "### Practice\n",
    "\n",
    "- Your application is having difficulty sending and receiving large packets of data, which are also delaying other processes when connected to remote computers. -> **Traffic shaping** can mark data packets and assign higher priorities when being sent over the network.\n",
    "\n",
    "- Some programs open a temporary file, and immediately **delete** the file before the process finishes, then the file continues to grow, which can cause slowdown -> Sometimes a file is marked as deleted right after it is opened, so the program doesn't \"forget\" later. The file is then written to, but we can't see this as the file is already marked as deleted, but will not actually be deleted until the process is finished.\n",
    "\n",
    "- **Guppy** is a Python library with tools to profile an entire Python application\n",
    "\n",
    "- @ - decorator - used in python to add extra behaviour to functions without having to modify the code -> use memory profiler; @profile label is used to profile a single function or method."
   ]
  },
  {
   "cell_type": "code",
   "execution_count": null,
   "metadata": {},
   "outputs": [],
   "source": []
  }
 ],
 "metadata": {
  "kernelspec": {
   "display_name": "Python 3",
   "language": "python",
   "name": "python3"
  },
  "language_info": {
   "codemirror_mode": {
    "name": "ipython",
    "version": 3
   },
   "file_extension": ".py",
   "mimetype": "text/x-python",
   "name": "python",
   "nbconvert_exporter": "python",
   "pygments_lexer": "ipython3",
   "version": "3.7.3"
  }
 },
 "nbformat": 4,
 "nbformat_minor": 4
}
