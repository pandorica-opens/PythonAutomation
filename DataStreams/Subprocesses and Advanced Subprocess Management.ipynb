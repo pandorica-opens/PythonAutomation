{
 "cells": [
  {
   "cell_type": "code",
   "execution_count": 1,
   "metadata": {},
   "outputs": [],
   "source": [
    "import subprocess"
   ]
  },
  {
   "cell_type": "code",
   "execution_count": 2,
   "metadata": {},
   "outputs": [
    {
     "data": {
      "text/plain": [
       "CompletedProcess(args=['date'], returncode=0)"
      ]
     },
     "execution_count": 2,
     "metadata": {},
     "output_type": "execute_result"
    }
   ],
   "source": [
    "subprocess.run(['date'])"
   ]
  },
  {
   "cell_type": "markdown",
   "metadata": {},
   "source": [
    "`subprocess.run` sends ICMP packets can be executed within a script\n",
    "\n",
    "\n",
    "Parent can't do any work until child finishes, same further :3"
   ]
  },
  {
   "cell_type": "code",
   "execution_count": 3,
   "metadata": {},
   "outputs": [
    {
     "data": {
      "text/plain": [
       "CompletedProcess(args=['sleep', '2'], returncode=0)"
      ]
     },
     "execution_count": 3,
     "metadata": {},
     "output_type": "execute_result"
    }
   ],
   "source": [
    "subprocess.run(['sleep', '2'])"
   ]
  },
  {
   "cell_type": "code",
   "execution_count": 4,
   "metadata": {},
   "outputs": [],
   "source": [
    "result = subprocess.run(['ls', 'does-not-exist'])"
   ]
  },
  {
   "cell_type": "code",
   "execution_count": 5,
   "metadata": {},
   "outputs": [
    {
     "data": {
      "text/plain": [
       "CompletedProcess(args=['ls', 'does-not-exist'], returncode=1)"
      ]
     },
     "execution_count": 5,
     "metadata": {},
     "output_type": "execute_result"
    }
   ],
   "source": [
    "result"
   ]
  },
  {
   "cell_type": "code",
   "execution_count": 6,
   "metadata": {},
   "outputs": [
    {
     "data": {
      "text/plain": [
       "1"
      ]
     },
     "execution_count": 6,
     "metadata": {},
     "output_type": "execute_result"
    }
   ],
   "source": [
    "result.returncode"
   ]
  },
  {
   "cell_type": "markdown",
   "metadata": {},
   "source": [
    "But if we need to obtain the output of the command, we need a different strategy:\n",
    "`capture_output=True`"
   ]
  },
  {
   "cell_type": "code",
   "execution_count": 7,
   "metadata": {},
   "outputs": [],
   "source": [
    "result = subprocess.run(['host', '8.8.8.8'], capture_output=True)"
   ]
  },
  {
   "cell_type": "markdown",
   "metadata": {},
   "source": [
    "8.8. 8.8 is the primary DNS server for Google DNS. Google DNS is a public DNS service that is provided by Google with the aim to make the Internet and the DNS system faster, safer, secure, and more reliable for all Internet users."
   ]
  },
  {
   "cell_type": "code",
   "execution_count": 8,
   "metadata": {},
   "outputs": [
    {
     "data": {
      "text/plain": [
       "CompletedProcess(args=['host', '8.8.8.8'], returncode=0, stdout=b'8.8.8.8.in-addr.arpa domain name pointer dns.google.\\n', stderr=b'')"
      ]
     },
     "execution_count": 8,
     "metadata": {},
     "output_type": "execute_result"
    }
   ],
   "source": [
    "result"
   ]
  },
  {
   "cell_type": "markdown",
   "metadata": {},
   "source": [
    "b at the beginnig of the string - array of bytes -> can transform the bytes into the string to UTF-8 by default; UTF-8 is a Unicode standard used to convert an array of bytes into a string :3"
   ]
  },
  {
   "cell_type": "code",
   "execution_count": 9,
   "metadata": {},
   "outputs": [
    {
     "data": {
      "text/plain": [
       "b'8.8.8.8.in-addr.arpa domain name pointer dns.google.\\n'"
      ]
     },
     "execution_count": 9,
     "metadata": {},
     "output_type": "execute_result"
    }
   ],
   "source": [
    "result.stdout"
   ]
  },
  {
   "cell_type": "code",
   "execution_count": 10,
   "metadata": {},
   "outputs": [
    {
     "data": {
      "text/plain": [
       "'8.8.8.8.in-addr.arpa domain name pointer dns.google.\\n'"
      ]
     },
     "execution_count": 10,
     "metadata": {},
     "output_type": "execute_result"
    }
   ],
   "source": [
    "result.stdout.decode()"
   ]
  },
  {
   "cell_type": "code",
   "execution_count": 12,
   "metadata": {},
   "outputs": [
    {
     "data": {
      "text/plain": [
       "['8.8.8.8.in-addr.arpa', 'domain', 'name', 'pointer', 'dns.google.']"
      ]
     },
     "execution_count": 12,
     "metadata": {},
     "output_type": "execute_result"
    }
   ],
   "source": [
    "result.stdout.decode().split()"
   ]
  },
  {
   "cell_type": "markdown",
   "metadata": {},
   "source": [
    "But what if it contains error?"
   ]
  },
  {
   "cell_type": "code",
   "execution_count": 13,
   "metadata": {},
   "outputs": [],
   "source": [
    "result = subprocess.run(['ls', 'does-not-exist'], capture_output=True)"
   ]
  },
  {
   "cell_type": "code",
   "execution_count": 14,
   "metadata": {},
   "outputs": [
    {
     "data": {
      "text/plain": [
       "1"
      ]
     },
     "execution_count": 14,
     "metadata": {},
     "output_type": "execute_result"
    }
   ],
   "source": [
    "result.returncode"
   ]
  },
  {
   "cell_type": "code",
   "execution_count": 15,
   "metadata": {},
   "outputs": [
    {
     "data": {
      "text/plain": [
       "b''"
      ]
     },
     "execution_count": 15,
     "metadata": {},
     "output_type": "execute_result"
    }
   ],
   "source": [
    "result.stdout"
   ]
  },
  {
   "cell_type": "code",
   "execution_count": 16,
   "metadata": {},
   "outputs": [
    {
     "data": {
      "text/plain": [
       "b'ls: does-not-exist: No such file or directory\\n'"
      ]
     },
     "execution_count": 16,
     "metadata": {},
     "output_type": "execute_result"
    }
   ],
   "source": [
    "result.stderr"
   ]
  },
  {
   "cell_type": "markdown",
   "metadata": {},
   "source": [
    "stdout and stderr are dirrefent streams, so python captures them separately"
   ]
  },
  {
   "cell_type": "markdown",
   "metadata": {},
   "source": [
    "### Parameters to set: subprocess run\n",
    "\n",
    "- `shell=true` (python would fisrt execute the instance of shell and then run the given command inside of it)\n",
    "        \n",
    "        using shell is security risk / be carefull when using it\n",
    "    \n",
    "- `cwd` (change current directory)\n",
    "\n",
    "- `timeout` (run function would kill the processes when the time is finished), "
   ]
  },
  {
   "cell_type": "markdown",
   "metadata": {},
   "source": [
    "copy is used to prepare a new environment to modify environment variables"
   ]
  },
  {
   "cell_type": "markdown",
   "metadata": {},
   "source": [
    "If we are doing simple, one time task -> subprocesses, if it's more long term and complicated -> try to use build in modules (no inventing the wheel)"
   ]
  },
  {
   "cell_type": "code",
   "execution_count": 68,
   "metadata": {},
   "outputs": [
    {
     "name": "stdout",
     "output_type": "stream",
     "text": [
      "ls ..\n"
     ]
    }
   ],
   "source": [
    "# input the command\n",
    "import shlex, subprocess\n",
    "command_line = input()"
   ]
  },
  {
   "cell_type": "code",
   "execution_count": 99,
   "metadata": {},
   "outputs": [
    {
     "data": {
      "text/plain": [
       "['ls', '..']"
      ]
     },
     "execution_count": 99,
     "metadata": {},
     "output_type": "execute_result"
    }
   ],
   "source": [
    "args = shlex.split(command_line)\n",
    "args"
   ]
  },
  {
   "cell_type": "code",
   "execution_count": 100,
   "metadata": {},
   "outputs": [],
   "source": [
    "# execute a child program in a new process.\n",
    "from subprocess import PIPE \n",
    "p = subprocess.Popen(args, stdout=PIPE, stdin=PIPE, stderr=PIPE)"
   ]
  },
  {
   "cell_type": "code",
   "execution_count": 101,
   "metadata": {},
   "outputs": [
    {
     "data": {
      "text/plain": [
       "<subprocess.Popen at 0x1101872e8>"
      ]
     },
     "execution_count": 101,
     "metadata": {},
     "output_type": "execute_result"
    }
   ],
   "source": [
    "p"
   ]
  },
  {
   "cell_type": "code",
   "execution_count": 102,
   "metadata": {},
   "outputs": [
    {
     "data": {
      "text/plain": [
       "0"
      ]
     },
     "execution_count": 102,
     "metadata": {},
     "output_type": "execute_result"
    }
   ],
   "source": [
    "# None value indicates that the process hasn’t terminated yet.\n",
    "# A negative value -N indicates that the child was terminated by signal N\n",
    "p.poll()"
   ]
  },
  {
   "cell_type": "code",
   "execution_count": 103,
   "metadata": {},
   "outputs": [
    {
     "name": "stdout",
     "output_type": "stream",
     "text": [
      "<_io.BufferedReader name=62> <_io.BufferedReader name=64> <_io.BufferedWriter name=61> ['ls', '..'] 0\n"
     ]
    }
   ],
   "source": [
    "print(p.stdout, p.stderr, p.stdin, p.args, p.returncode)"
   ]
  },
  {
   "cell_type": "code",
   "execution_count": 104,
   "metadata": {},
   "outputs": [
    {
     "name": "stdout",
     "output_type": "stream",
     "text": [
      "DataStreams\n",
      "Handling Files\n",
      "InheritanceComposition.ipynb\n",
      "ReadingWritingFiles.ipynb\n",
      "RegularExpressions\n",
      "SetsUsersLog.ipynb\n",
      "Wordcloud_pride_and_prejudice.ipynb\n",
      " \n"
     ]
    }
   ],
   "source": [
    "# printing out the directory\n",
    "(out,err) = p.communicate()\n",
    "print(out.decode('utf8'), err.decode('utf8'))"
   ]
  },
  {
   "cell_type": "code",
   "execution_count": 109,
   "metadata": {},
   "outputs": [
    {
     "name": "stdout",
     "output_type": "stream",
     "text": [
      "<subprocess.Popen object at 0x1101872e8>\n"
     ]
    }
   ],
   "source": [
    "print(p)"
   ]
  },
  {
   "cell_type": "code",
   "execution_count": 110,
   "metadata": {},
   "outputs": [
    {
     "name": "stdout",
     "output_type": "stream",
     "text": [
      "<_io.BufferedReader name=62> <_io.BufferedReader name=64> <_io.BufferedWriter name=61> ['ls', '..'] 0 <bound method Popen.poll of <subprocess.Popen object at 0x1101872e8>>\n"
     ]
    }
   ],
   "source": [
    "# A negative value -N indicates that the child was terminated by signal N\n",
    "print(p.stdout, p.stderr, p.stdin, p.args, p.returncode, p.poll)"
   ]
  },
  {
   "cell_type": "markdown",
   "metadata": {},
   "source": [
    "When writing to this object, data is normally placed into an internal buffer. The buffer will be written out to the underlying RawIOBase object under various conditions, including:\n",
    "\n",
    "- when the buffer gets too small for all pending data;\n",
    "\n",
    "- when flush() is called;\n",
    "\n",
    "- when a seek() is requested (for BufferedRandom objects);\n",
    "\n",
    "- when the BufferedWriter object is closed or destroyed.\n",
    "\n"
   ]
  },
  {
   "cell_type": "code",
   "execution_count": 120,
   "metadata": {},
   "outputs": [
    {
     "name": "stdout",
     "output_type": "stream",
     "text": [
      "DataStreams\n",
      "Handling Files\n",
      "InheritanceComposition.ipynb\n",
      "ReadingWritingFiles.ipynb\n",
      "RegularExpressions\n",
      "SetsUsersLog.ipynb\n",
      "Wordcloud_pride_and_prejudice.ipynb\n",
      " \n"
     ]
    }
   ],
   "source": [
    "# if run twice second part gives an error\n",
    "p = subprocess.Popen(args, stdout=PIPE, stdin=PIPE, stderr=PIPE, bufsize=1000)\n",
    "(out,err) = p.communicate()\n",
    "print(out.decode('utf8'), err.decode('utf8'))"
   ]
  },
  {
   "cell_type": "code",
   "execution_count": null,
   "metadata": {},
   "outputs": [],
   "source": []
  }
 ],
 "metadata": {
  "kernelspec": {
   "display_name": "Python 3",
   "language": "python",
   "name": "python3"
  },
  "language_info": {
   "codemirror_mode": {
    "name": "ipython",
    "version": 3
   },
   "file_extension": ".py",
   "mimetype": "text/x-python",
   "name": "python",
   "nbconvert_exporter": "python",
   "pygments_lexer": "ipython3",
   "version": "3.7.3"
  }
 },
 "nbformat": 4,
 "nbformat_minor": 2
}
