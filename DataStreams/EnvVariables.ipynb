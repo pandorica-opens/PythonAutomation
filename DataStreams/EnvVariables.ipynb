{
 "cells": [
  {
   "cell_type": "markdown",
   "metadata": {},
   "source": [
    "### Environtment variables"
   ]
  },
  {
   "cell_type": "markdown",
   "metadata": {},
   "source": [
    "Shell - command line interface used to interact with operating system\n",
    "- Commonly used shell on linux: Bash\n",
    "    - Other: Zsh, fish\n",
    "- Commands:\n",
    "    - `env`\n",
    "    - `Echo $PATH` ($ sign before variable)\n"
   ]
  },
  {
   "cell_type": "code",
   "execution_count": 1,
   "metadata": {},
   "outputs": [],
   "source": [
    "import os\n",
    "# variable HOME\n",
    "print(\"Home:\", os.environ.get(\"HOME\", ''))\n",
    "# variable SHELL\n",
    "print(\"Shell:\", os.environ.get(\"SHELL\", ''))\n",
    "# returns only empty string, as the key does not exist\n",
    "print(\"Fruit:\", os.environ.get(\"FRUIT\", ''))"
   ]
  },
  {
   "cell_type": "markdown",
   "metadata": {},
   "source": [
    "Would work in terminal:"
   ]
  },
  {
   "cell_type": "code",
   "execution_count": 2,
   "metadata": {},
   "outputs": [],
   "source": [
    "!export FRUIT=Pineapple"
   ]
  },
  {
   "cell_type": "code",
   "execution_count": 3,
   "metadata": {},
   "outputs": [
    {
     "name": "stdout",
     "output_type": "stream",
     "text": [
      "\r\n"
     ]
    }
   ],
   "source": [
    "# no Pineapple, only empty string\n",
    "!echo $FRUIT"
   ]
  },
  {
   "cell_type": "markdown",
   "metadata": {},
   "source": [
    "But in Jupyter Notebook, we have to use magic % to set the value to the env variable:"
   ]
  },
  {
   "cell_type": "code",
   "execution_count": 4,
   "metadata": {},
   "outputs": [
    {
     "name": "stdout",
     "output_type": "stream",
     "text": [
      "env: FRUIT=Pineapple\n"
     ]
    }
   ],
   "source": [
    "%env FRUIT=Pineapple"
   ]
  },
  {
   "cell_type": "code",
   "execution_count": 5,
   "metadata": {},
   "outputs": [
    {
     "data": {
      "text/plain": [
       "{'GIT_PS1_SHOWDIRTYSTATE': '1',\n",
       " 'TERM_PROGRAM': 'Apple_Terminal',\n",
       " 'SHELL': '/bin/bash',\n",
       " 'TERM': 'xterm-color',\n",
       " 'TMPDIR': '/var/folders/1f/chh74g8n4l96dk8nnlxx8fsh0000gq/T/',\n",
       " 'CONDA_SHLVL': '1',\n",
       " 'Apple_PubSub_Socket_Render': '/private/tmp/com.apple.launchd.DepYFU8mXd/Render',\n",
       " 'CONDA_PROMPT_MODIFIER': '(base) ',\n",
       " 'TERM_PROGRAM_VERSION': '421.2',\n",
       " 'TERM_SESSION_ID': '429E289C-17E1-46D2-AACC-AE062FEB50A5',\n",
       " 'USER': 'Projects',\n",
       " 'CONDA_EXE': '/anaconda3/bin/conda',\n",
       " 'SSH_AUTH_SOCK': '/private/tmp/com.apple.launchd.r1b1y50hSA/Listeners',\n",
       " '_CE_CONDA': '',\n",
       " 'PATH': '/anaconda3/bin:/anaconda3/condabin:/Users/Projects/anaconda3/bin:/usr/local/bin:/usr/bin:/bin:/usr/sbin:/sbin:/Library/TeX/texbin:/usr/local/MacGPG2/bin:/Library/Frameworks/Mono.framework/Versions/Current/Commands:/Users/Projects/anaconda/bin:/opt/local/bin:/opt/local/sbin',\n",
       " 'CONDA_PREFIX': '/anaconda3',\n",
       " 'PWD': '/Users/Projects',\n",
       " 'XPC_FLAGS': '0x0',\n",
       " 'PS1': '(base) \\\\[\\\\033[0;35m\\\\]\\\\u\\\\[\\\\033[0;32m\\\\]$(__git_ps1)\\\\[\\\\033[0;34m\\\\] \\\\W $ \\\\[\\\\033[0m\\\\]',\n",
       " '_CE_M': '',\n",
       " 'XPC_SERVICE_NAME': '0',\n",
       " 'SHLVL': '1',\n",
       " 'HOME': '/Users/Projects',\n",
       " 'CONDA_PYTHON_EXE': '/anaconda3/bin/python',\n",
       " 'LOGNAME': 'Projects',\n",
       " 'LC_CTYPE': 'UTF-8',\n",
       " 'CONDA_DEFAULT_ENV': 'base',\n",
       " '_': '/anaconda3/bin/jupyter',\n",
       " 'JPY_PARENT_PID': '5923',\n",
       " 'CLICOLOR': '1',\n",
       " 'PAGER': 'cat',\n",
       " 'GIT_PAGER': 'cat',\n",
       " 'MPLBACKEND': 'module://ipykernel.pylab.backend_inline',\n",
       " 'FRUIT': 'Pineapple'}"
      ]
     },
     "execution_count": 5,
     "metadata": {},
     "output_type": "execute_result"
    }
   ],
   "source": [
    "%env"
   ]
  },
  {
   "cell_type": "code",
   "execution_count": 6,
   "metadata": {},
   "outputs": [
    {
     "name": "stdout",
     "output_type": "stream",
     "text": [
      "Pineapple\r\n"
     ]
    }
   ],
   "source": [
    "!echo $FRUIT"
   ]
  },
  {
   "cell_type": "markdown",
   "metadata": {},
   "source": [
    "Works!"
   ]
  },
  {
   "cell_type": "code",
   "execution_count": 9,
   "metadata": {},
   "outputs": [
    {
     "name": "stdout",
     "output_type": "stream",
     "text": [
      "Home: /Users/Projects\n",
      "Shell: /bin/bash\n",
      "Fruit: Pineapple\n"
     ]
    }
   ],
   "source": [
    "# variable HOME\n",
    "print(\"Home:\", os.environ.get(\"HOME\", ''))\n",
    "# variable SHELL\n",
    "print(\"Shell:\", os.environ.get(\"SHELL\", ''))\n",
    "# returns only empty string, as the key does not exist\n",
    "print(\"Fruit:\", os.environ.get(\"FRUIT\", ''))"
   ]
  },
  {
   "cell_type": "markdown",
   "metadata": {},
   "source": [
    "### Command Line Arguments and Exit Status"
   ]
  },
  {
   "cell_type": "code",
   "execution_count": 13,
   "metadata": {},
   "outputs": [],
   "source": [
    "def parameters():\n",
    "    import sys\n",
    "    print(sys.argv)"
   ]
  },
  {
   "cell_type": "code",
   "execution_count": 14,
   "metadata": {},
   "outputs": [
    {
     "name": "stdout",
     "output_type": "stream",
     "text": [
      "['/anaconda3/lib/python3.7/site-packages/ipykernel_launcher.py', '-f', '/Users/Projects/Library/Jupyter/runtime/kernel-0ce5c5ac-4dfa-42ba-b7c4-d2049155a256.json']\n"
     ]
    }
   ],
   "source": [
    "parameters()"
   ]
  },
  {
   "cell_type": "code",
   "execution_count": 16,
   "metadata": {},
   "outputs": [
    {
     "name": "stdout",
     "output_type": "stream",
     "text": [
      "EnvVariables.ipynb parameters.py\r\n"
     ]
    }
   ],
   "source": [
    "! ls"
   ]
  },
  {
   "cell_type": "code",
   "execution_count": 17,
   "metadata": {},
   "outputs": [
    {
     "name": "stdout",
     "output_type": "stream",
     "text": [
      "import sys\r\n",
      "print(sys.argv)"
     ]
    }
   ],
   "source": [
    "!cat parameters.py"
   ]
  },
  {
   "cell_type": "code",
   "execution_count": 40,
   "metadata": {},
   "outputs": [],
   "source": [
    "!chmod +x parameters.py"
   ]
  },
  {
   "cell_type": "code",
   "execution_count": 41,
   "metadata": {},
   "outputs": [
    {
     "data": {
      "text/plain": [
       "['/Users/Projects/Version-Control/Sourcetree/Python Automation Course/DataStreams',\n",
       " '/anaconda3/lib/python37.zip',\n",
       " '/anaconda3/lib/python3.7',\n",
       " '/anaconda3/lib/python3.7/lib-dynload',\n",
       " '',\n",
       " '/Users/Projects/.local/lib/python3.7/site-packages',\n",
       " '/anaconda3/lib/python3.7/site-packages',\n",
       " '/anaconda3/lib/python3.7/site-packages/aeosa',\n",
       " '/anaconda3/lib/python3.7/site-packages/mock-2.0.0-py3.7.egg',\n",
       " '/anaconda3/lib/python3.7/site-packages/pbr-5.1.3-py3.7.egg',\n",
       " '/Users/Projects/gym',\n",
       " '/anaconda3/lib/python3.7/site-packages/IPython/extensions',\n",
       " '/Users/Projects/.ipython']"
      ]
     },
     "execution_count": 41,
     "metadata": {},
     "output_type": "execute_result"
    }
   ],
   "source": [
    "import sys\n",
    "sys.path"
   ]
  },
  {
   "cell_type": "code",
   "execution_count": 46,
   "metadata": {},
   "outputs": [],
   "source": [
    "# needs sudo here"
   ]
  },
  {
   "cell_type": "code",
   "execution_count": 48,
   "metadata": {},
   "outputs": [
    {
     "name": "stdout",
     "output_type": "stream",
     "text": [
      "/bin/sh: ./parameters.py: /anaconda3/lib/python3.7: bad interpreter: Permission denied\r\n"
     ]
    }
   ],
   "source": [
    "! ./parameters.py"
   ]
  },
  {
   "cell_type": "code",
   "execution_count": 49,
   "metadata": {},
   "outputs": [
    {
     "name": "stdout",
     "output_type": "stream",
     "text": [
      "0\r\n"
     ]
    }
   ],
   "source": [
    "# retunrs 0 when executing with error\n",
    "!echo $?"
   ]
  },
  {
   "cell_type": "markdown",
   "metadata": {},
   "source": [
    "There are some subtle differences in how data streams are handled in Python 3 and older versions, such as Python 2. \n",
    "\n",
    "Let’s just focus on `input()` and `raw_input()`, because they work differently in Python 2 and 3, and you would want to use one or the other depending on the Python version."
   ]
  },
  {
   "cell_type": "markdown",
   "metadata": {},
   "source": [
    "Python 2 and Python 3 handle input and raw_input differently.\n",
    "\n",
    "### In Python 2\n",
    "\n",
    "`input(x)` is roughly the same as `eval(raw_input(x))`\n",
    "\n",
    "`raw_input()` is preferred, unless the author wants to support evaluating string expressions\n",
    "\n",
    "`eval()` is used to evaluate string expressions."
   ]
  },
  {
   "cell_type": "markdown",
   "metadata": {},
   "source": [
    "```python\n",
    ">>> my_number = raw_input('Please Enter a Number: \\n')\n",
    "Please Enter a Number: \n",
    "1337\n",
    ">>> print(my_number)\n",
    "1337\n",
    "```"
   ]
  },
  {
   "cell_type": "markdown",
   "metadata": {},
   "source": [
    "Now, this is important, because, `raw_input` does not evaluate an otherwise valid Python expression. \n",
    "\n",
    "In simple terms, `raw_input` **will just get a *string* from a user, where input will actually perform basic maths and the like**."
   ]
  },
  {
   "cell_type": "markdown",
   "metadata": {},
   "source": [
    "```python \n",
    ">>> my_raw_input = raw_input('Please Enter a Number: \\n')\n",
    "Please Enter a Number: \n",
    "123 + 1  # This is treated like a raw string.\n",
    ">>> my_input = input('Please Enter a Number: \\n')\n",
    "Please Enter a Number: \n",
    "123 + 1 # This is treated like an expression.\n",
    ">>> print(my_raw_input)\n",
    "123 + 1\n",
    ">>> print(my_input)\n",
    "124 # See that the expression was evaluated! ```"
   ]
  },
  {
   "cell_type": "markdown",
   "metadata": {},
   "source": [
    "In Python 2 `input(x)` is just `eval(raw_input(x))`. `eval()` will just evaluate a generic string as if it were a Python expression."
   ]
  },
  {
   "cell_type": "markdown",
   "metadata": {},
   "source": [
    "### In Python 3\n",
    "\n",
    "Taking an input from a user, `input` should be used. See the below sample:"
   ]
  },
  {
   "cell_type": "markdown",
   "metadata": {},
   "source": [
    "```python\n",
    ">>> my_number = input('Please Enter a Number: \\n')\n",
    "Please Enter a Number: \n",
    "123 + 1\n",
    ">>> print(my_number)\n",
    "123 + 1\n",
    ">>> type(my_number)\n",
    "<class 'str'>\n",
    "```"
   ]
  },
  {
   "cell_type": "markdown",
   "metadata": {},
   "source": [
    "Notice that the expression is treated just like a string. It is not evaluated. If we want to, we can call `eval()` and that will actually execute the string as an expression:"
   ]
  },
  {
   "cell_type": "markdown",
   "metadata": {},
   "source": [
    "```python \n",
    ">>> my_number = input('Please Enter a Number: \\n')\n",
    "Please Enter a Number: \n",
    "123 + 1\n",
    ">>> print(my_number)\n",
    "123 + 1\n",
    ">>> eval(my_number)\n",
    "124\n",
    "```"
   ]
  },
  {
   "cell_type": "code",
   "execution_count": null,
   "metadata": {},
   "outputs": [],
   "source": []
  }
 ],
 "metadata": {
  "kernelspec": {
   "display_name": "Python 3",
   "language": "python",
   "name": "python3"
  },
  "language_info": {
   "codemirror_mode": {
    "name": "ipython",
    "version": 3
   },
   "file_extension": ".py",
   "mimetype": "text/x-python",
   "name": "python",
   "nbconvert_exporter": "python",
   "pygments_lexer": "ipython3",
   "version": "3.7.3"
  }
 },
 "nbformat": 4,
 "nbformat_minor": 2
}
