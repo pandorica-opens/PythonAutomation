{
 "cells": [
  {
   "cell_type": "code",
   "execution_count": 3,
   "metadata": {},
   "outputs": [
    {
     "data": {
      "text/plain": [
       "'-f'"
      ]
     },
     "execution_count": 3,
     "metadata": {},
     "output_type": "execute_result"
    }
   ],
   "source": [
    "import re\n",
    "import sys\n",
    "\n",
    "logfile = sys.argv[1]\n",
    "logfile"
   ]
  },
  {
   "cell_type": "code",
   "execution_count": null,
   "metadata": {},
   "outputs": [],
   "source": [
    "usenames = {}\n",
    "\n",
    "with open(logfile) as f:\n",
    "    for line in f:\n",
    "        if \"catch\" not in line:\n",
    "            continue\n",
    "        pattern = r\"USER \\((\\w+)\\)$\" # so if the 'catch' is in the line, then what is in brackets \"( )\" would be shown as result\n",
    "        result = re.search(pattern, line)\n",
    "        name = result[1]\n",
    "        usernames[name] = usernames.get(name, 0)\n",
    "        print(result)"
   ]
  },
  {
   "cell_type": "code",
   "execution_count": null,
   "metadata": {},
   "outputs": [],
   "source": [
    "# syslog is the filename\n",
    "! python check_catch.py syslog"
   ]
  },
  {
   "cell_type": "markdown",
   "metadata": {},
   "source": [
    "- #### for memory restrictions, sometimes it is better to iterate over lines instead of loading the whole file!\n",
    "- `continue` comes back to the top of the loop\n",
    "- needs to accept a command line argument for the path to the log file: \n",
    "`syslog=sys.argv[1]`"
   ]
  },
  {
   "cell_type": "markdown",
   "metadata": {},
   "source": [
    "! ./find_error.py fishy.log"
   ]
  },
  {
   "cell_type": "code",
   "execution_count": 1,
   "metadata": {},
   "outputs": [],
   "source": [
    "import sys\n",
    "import os\n",
    "import re"
   ]
  },
  {
   "cell_type": "code",
   "execution_count": 2,
   "metadata": {},
   "outputs": [
    {
     "name": "stdout",
     "output_type": "stream",
     "text": [
      "What is the error? CRON ERROR Failed to start\n"
     ]
    }
   ],
   "source": [
    "#%tb\n",
    "def error_search(log_file):\n",
    "    error = input(\"What is the error? \")\n",
    "    #print(error)\n",
    "    returned_errors = []\n",
    "    with open(log_file, mode='r',encoding='UTF-8') as file:\n",
    "        for log in  file.readlines():\n",
    "            error_patterns = [\"error\"]\n",
    "            for i in range(len(error.split(' '))):\n",
    "                error_patterns.append(r\"{}\".format(error.split(' ')[i].lower()))\n",
    "            if all(re.search(error_pattern, log.lower()) for error_pattern in error_patterns):\n",
    "                returned_errors.append(log)\n",
    "\n",
    "    file.close()\n",
    "    return returned_errors\n",
    "\n",
    "\n",
    "def file_output(returned_errors):\n",
    "    #print(os.path.expanduser('~') + 'errors_found.log')\n",
    "    with open(os.getcwd() + '/errors_found.log', 'w') as file:\n",
    "        for error in returned_errors:\n",
    "            file.write(error)\n",
    "    file.close()\n",
    "\n",
    "if __name__ == \"__main__\":\n",
    "    sys.argv = ['find_error.py', 'fishy.log']\n",
    "    log_file = sys.argv[1]\n",
    "    returned_errors = error_search(log_file)\n",
    "    file_output(returned_errors)\n",
    "    #sys.exit(0)"
   ]
  },
  {
   "cell_type": "code",
   "execution_count": 3,
   "metadata": {},
   "outputs": [
    {
     "name": "stdout",
     "output_type": "stream",
     "text": [
      "July 31 04:11:32 mycomputername CRON[51253]: ERROR: Failed to start CRON job due to script syntax error. Inform the CRON job owner!\r\n"
     ]
    }
   ],
   "source": [
    "! cat errors_found.log"
   ]
  },
  {
   "cell_type": "code",
   "execution_count": null,
   "metadata": {},
   "outputs": [],
   "source": []
  }
 ],
 "metadata": {
  "kernelspec": {
   "display_name": "Python 3",
   "language": "python",
   "name": "python3"
  },
  "language_info": {
   "codemirror_mode": {
    "name": "ipython",
    "version": 3
   },
   "file_extension": ".py",
   "mimetype": "text/x-python",
   "name": "python",
   "nbconvert_exporter": "python",
   "pygments_lexer": "ipython3",
   "version": "3.7.3"
  }
 },
 "nbformat": 4,
 "nbformat_minor": 4
}
