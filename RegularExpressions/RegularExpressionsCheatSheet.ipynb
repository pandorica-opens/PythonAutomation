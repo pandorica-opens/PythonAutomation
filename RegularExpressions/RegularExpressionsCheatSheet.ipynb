{
 "cells": [
  {
   "cell_type": "markdown",
   "metadata": {},
   "source": [
    "## Regular expressions (RegEx)\n",
    "\n",
    "- More robust way of getting what we want from the string\n",
    "- https://docs.python.org/3/library/re.html\n",
    "- ^ - starting the line (beginning of the line)\n",
    "- . is replacing any character\n",
    "- $ replaces the same ending for the line\n",
    "- Always use rawstrings re.search(r’fall’, ‘onfall’)\n",
    "- re.search(r’[Pp]ython’, ‘Python’)\n",
    "- re.search(r’[a-z]ython’, ‘Python’) (from a to z)\n",
    "- re.search(r’cat|dog’, ‘dog’) - returns either cat or dogs span (but we only get the first one)\n",
    "- re.findall(r’cat|dog’, ‘cats and dogs’)) - return all of the matches: ['cat', 'dog']\n"
   ]
  },
  {
   "cell_type": "code",
   "execution_count": 1,
   "metadata": {},
   "outputs": [
    {
     "name": "stdout",
     "output_type": "stream",
     "text": [
      "True\n",
      "False\n",
      "True\n",
      "True\n",
      "False\n"
     ]
    }
   ],
   "source": [
    "import re\n",
    "def check_punctuation (text):\n",
    "  result = re.search(r\"[.?!]$\", text)\n",
    "  return result != None\n",
    "\n",
    "print(check_punctuation(\"This is a sentence that ends with a period.\")) # True\n",
    "print(check_punctuation(\"This is a sentence fragment without a period\")) # False\n",
    "print(check_punctuation(\"Aren't regular expressions awesome?\")) # True\n",
    "print(check_punctuation(\"Wow! We're really picking up some steam now!\")) # True\n",
    "print(check_punctuation(\"End of the line\")) # False"
   ]
  },
  {
   "cell_type": "markdown",
   "metadata": {},
   "source": [
    "### Repeated matches"
   ]
  },
  {
   "cell_type": "markdown",
   "metadata": {},
   "source": [
    "find Py followed by any number of other characters followed by n (any number of repetitions of thos characters, including 0)"
   ]
  },
  {
   "cell_type": "code",
   "execution_count": 3,
   "metadata": {},
   "outputs": [
    {
     "name": "stdout",
     "output_type": "stream",
     "text": [
      "<re.Match object; span=(0, 9), match='Pygmalion'>\n"
     ]
    }
   ],
   "source": [
    "print(re.search(r'Py.*n', 'Pygmalion'))"
   ]
  },
  {
   "cell_type": "markdown",
   "metadata": {},
   "source": [
    "so it expands to all the way to the string"
   ]
  },
  {
   "cell_type": "code",
   "execution_count": 6,
   "metadata": {},
   "outputs": [
    {
     "name": "stdout",
     "output_type": "stream",
     "text": [
      "<re.Match object; span=(0, 17), match='Python Programmin'>\n"
     ]
    }
   ],
   "source": [
    "print(re.search(r'Py.*n', 'Python Programming'))"
   ]
  },
  {
   "cell_type": "markdown",
   "metadata": {},
   "source": [
    "- we can choose only letters to match"
   ]
  },
  {
   "cell_type": "code",
   "execution_count": 8,
   "metadata": {},
   "outputs": [
    {
     "name": "stdout",
     "output_type": "stream",
     "text": [
      "<re.Match object; span=(0, 6), match='Python'>\n"
     ]
    }
   ],
   "source": [
    "print(re.search(r'Py[a-z]*n', 'Python Programming'))"
   ]
  },
  {
   "cell_type": "markdown",
   "metadata": {},
   "source": [
    "- zero repetitions is also a possibility"
   ]
  },
  {
   "cell_type": "code",
   "execution_count": 9,
   "metadata": {},
   "outputs": [
    {
     "name": "stdout",
     "output_type": "stream",
     "text": [
      "<re.Match object; span=(0, 3), match='Pyn'>\n"
     ]
    }
   ],
   "source": [
    "print(re.search(r'Py[a-z]*n', 'Pyn'))"
   ]
  },
  {
   "cell_type": "markdown",
   "metadata": {},
   "source": [
    "- character **+** - we can match few strings together"
   ]
  },
  {
   "cell_type": "code",
   "execution_count": 10,
   "metadata": {},
   "outputs": [
    {
     "name": "stdout",
     "output_type": "stream",
     "text": [
      "None\n"
     ]
    }
   ],
   "source": [
    "print(re.search(r'o+l', 'oil'))"
   ]
  },
  {
   "cell_type": "code",
   "execution_count": 11,
   "metadata": {},
   "outputs": [
    {
     "name": "stdout",
     "output_type": "stream",
     "text": [
      "<re.Match object; span=(0, 2), match='ol'>\n"
     ]
    }
   ],
   "source": [
    "print(re.search(r'o+l', 'olllllivie'))"
   ]
  },
  {
   "cell_type": "code",
   "execution_count": 12,
   "metadata": {},
   "outputs": [
    {
     "name": "stdout",
     "output_type": "stream",
     "text": [
      "<re.Match object; span=(0, 5), match='ooool'>\n"
     ]
    }
   ],
   "source": [
    "print(re.search(r'o+l', 'oooollloo'))"
   ]
  },
  {
   "cell_type": "code",
   "execution_count": 13,
   "metadata": {},
   "outputs": [
    {
     "name": "stdout",
     "output_type": "stream",
     "text": [
      "<re.Match object; span=(0, 7), match='oooolll'>\n"
     ]
    }
   ],
   "source": [
    "print(re.search(r'o+l+', 'oooollloo'))"
   ]
  },
  {
   "cell_type": "markdown",
   "metadata": {},
   "source": [
    "The repeating_letter_a function checks if the text passed includes the letter \"a\" (lowercase or uppercase) at least twice. For example, repeating_letter_a(\"banana\") is True, while repeating_letter_a(\"pineapple\") is False. Fill in the code to make this work."
   ]
  },
  {
   "cell_type": "code",
   "execution_count": 22,
   "metadata": {},
   "outputs": [
    {
     "name": "stdout",
     "output_type": "stream",
     "text": [
      "<re.Match object; span=(1, 6), match='anana'>\n",
      "True\n",
      "None\n",
      "False\n",
      "<re.Match object; span=(0, 5), match='Anima'>\n",
      "True\n",
      "<re.Match object; span=(0, 10), match='A is for a'>\n",
      "True\n"
     ]
    }
   ],
   "source": [
    "import re\n",
    "def repeating_letter_a(text):\n",
    "    result = re.search(r\"[a,A].*[a,A]\", text)\n",
    "    print(result)\n",
    "    return result != None\n",
    "\n",
    "print(repeating_letter_a(\"banana\")) # True\n",
    "print(repeating_letter_a(\"pineapple\")) # False\n",
    "print(repeating_letter_a(\"Animal Kingdom\")) # True\n",
    "print(repeating_letter_a(\"A is for apple\")) # True"
   ]
  },
  {
   "cell_type": "markdown",
   "metadata": {},
   "source": [
    "#### ? is another multiplier\n",
    "basically it makes one previous character optional"
   ]
  },
  {
   "cell_type": "code",
   "execution_count": 24,
   "metadata": {},
   "outputs": [
    {
     "name": "stdout",
     "output_type": "stream",
     "text": [
      "None\n"
     ]
    }
   ],
   "source": [
    "print(re.search(r'ep?each', 'each'))"
   ]
  },
  {
   "cell_type": "code",
   "execution_count": 25,
   "metadata": {},
   "outputs": [
    {
     "name": "stdout",
     "output_type": "stream",
     "text": [
      "<re.Match object; span=(0, 4), match='each'>\n"
     ]
    }
   ],
   "source": [
    "print(re.search(r'p?each', 'each'))"
   ]
  },
  {
   "cell_type": "markdown",
   "metadata": {},
   "source": [
    "What if what we need to find matches some of special characters? We can use escape character (backslash \\)"
   ]
  },
  {
   "cell_type": "code",
   "execution_count": 26,
   "metadata": {},
   "outputs": [
    {
     "name": "stdout",
     "output_type": "stream",
     "text": [
      "<re.Match object; span=(2, 6), match='lcom'>\n"
     ]
    }
   ],
   "source": [
    "print(re.search(r'.com', 'welcome'))"
   ]
  },
  {
   "cell_type": "code",
   "execution_count": 28,
   "metadata": {},
   "outputs": [
    {
     "name": "stdout",
     "output_type": "stream",
     "text": [
      "<re.Match object; span=(21, 25), match='.com'>\n"
     ]
    }
   ],
   "source": [
    "print(re.search(r'\\.com', 'welcome to www.python.com'))"
   ]
  },
  {
   "cell_type": "markdown",
   "metadata": {},
   "source": [
    "- using raw strings helps to avoid confusions with \\t and \\n as for tab and new line character; they will only be interpreted when parcing the regural expression\n",
    "- \\w (or some other letter) can be used for pre-defined sets of symbols \n",
    "- \\w any alphanumeric character including letters, numbers and underscores"
   ]
  },
  {
   "cell_type": "code",
   "execution_count": 45,
   "metadata": {},
   "outputs": [
    {
     "name": "stdout",
     "output_type": "stream",
     "text": [
      "['w', 'e', 'l', 'c', 'o', 'm', 'e', '1', '3', '4']\n"
     ]
    }
   ],
   "source": [
    "print(re.findall(r'\\w', ' welcome 1 3 4 . /'))"
   ]
  },
  {
   "cell_type": "code",
   "execution_count": 35,
   "metadata": {},
   "outputs": [
    {
     "name": "stdout",
     "output_type": "stream",
     "text": [
      "[' ', 'w', 'e', 'l', 'c', 'o', 'm', 'e', ' ', '1', ' ', '3', ' ', '4']\n"
     ]
    }
   ],
   "source": [
    "print(re.findall(r'.', ' welcome 1 3 4'))"
   ]
  },
  {
   "cell_type": "markdown",
   "metadata": {},
   "source": [
    "Fill in the code to check if the text passed has at least 2 groups of alphanumeric characters (including letters, numbers, and underscores) separated by one or more whitespace characters."
   ]
  },
  {
   "cell_type": "code",
   "execution_count": 38,
   "metadata": {},
   "outputs": [
    {
     "name": "stdout",
     "output_type": "stream",
     "text": [
      "False\n",
      "True\n",
      "True\n",
      "False\n"
     ]
    }
   ],
   "source": [
    "import re\n",
    "def check_character_groups(text):\n",
    "  # here we use two one spaces - one is mandatory, other is optional up to 0 repetitions\n",
    "  result = re.search(r\"\\w  *\\w\", text)\n",
    "  return result != None\n",
    "\n",
    "print(check_character_groups(\"One\")) # False\n",
    "print(check_character_groups(\"123  Ready Set GO\")) # True\n",
    "print(check_character_groups(\"username user_01\")) # True\n",
    "print(check_character_groups(\"shopping_list: milk, bread, eggs.\")) # False"
   ]
  },
  {
   "cell_type": "markdown",
   "metadata": {},
   "source": [
    "Cheatsheet:\n",
    "- https://regex101.com/\n",
    "- https://docs.python.org/3/howto/regex.html\n",
    "- https://docs.python.org/3/library/re.html\n",
    "- https://docs.python.org/3/howto/regex.html#greedy-versus-non-greedy\n",
    "    "
   ]
  },
  {
   "cell_type": "code",
   "execution_count": 42,
   "metadata": {},
   "outputs": [
    {
     "name": "stdout",
     "output_type": "stream",
     "text": [
      "<re.Match object; span=(0, 9), match='Argentina'>\n",
      "None\n"
     ]
    }
   ],
   "source": [
    "#begins with A and ends with letter a\n",
    "print(re.search(r'^A.*a$', 'Argentina'))\n",
    "print(re.search(r'^A.*a$', 'Argentinian'))"
   ]
  },
  {
   "cell_type": "markdown",
   "metadata": {},
   "source": [
    "the characters of upper or underscore and numbers: [A-Za-z0-9]"
   ]
  },
  {
   "cell_type": "markdown",
   "metadata": {},
   "source": [
    "Fill in the code to check if the text passed looks like a standard sentence, meaning that it starts with an uppercase letter, followed by at least some lowercase letters or a space, and ends with a period, question mark, or exclamation point."
   ]
  },
  {
   "cell_type": "code",
   "execution_count": 44,
   "metadata": {},
   "outputs": [
    {
     "name": "stdout",
     "output_type": "stream",
     "text": [
      "True\n",
      "False\n",
      "False\n",
      "False\n",
      "True\n"
     ]
    }
   ],
   "source": [
    "import re\n",
    "def check_sentence(text):\n",
    "  result = re.search(r\"^[A-Z].*[.?!]$\", text)\n",
    "  return result != None\n",
    "\n",
    "print(check_sentence(\"Is this is a sentence?\")) # True\n",
    "print(check_sentence(\"is this is a sentence?\")) # False\n",
    "print(check_sentence(\"Hello\")) # False\n",
    "print(check_sentence(\"1-2-3-GO!\")) # False\n",
    "print(check_sentence(\"A star is born.\")) # True"
   ]
  },
  {
   "cell_type": "markdown",
   "metadata": {},
   "source": [
    "Awesome! You're becoming a regular \"regular expression\"\n",
    "writer!"
   ]
  },
  {
   "cell_type": "code",
   "execution_count": null,
   "metadata": {},
   "outputs": [],
   "source": []
  }
 ],
 "metadata": {
  "kernelspec": {
   "display_name": "Python 3",
   "language": "python",
   "name": "python3"
  },
  "language_info": {
   "codemirror_mode": {
    "name": "ipython",
    "version": 3
   },
   "file_extension": ".py",
   "mimetype": "text/x-python",
   "name": "python",
   "nbconvert_exporter": "python",
   "pygments_lexer": "ipython3",
   "version": "3.7.3"
  }
 },
 "nbformat": 4,
 "nbformat_minor": 2
}
