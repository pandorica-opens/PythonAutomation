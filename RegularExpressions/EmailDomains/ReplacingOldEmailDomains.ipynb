{
 "cells": [
  {
   "cell_type": "markdown",
   "metadata": {},
   "source": [
    "## Working with Regular Expressions\n",
    "\n",
    "#### tasks \n",
    "\n",
    "- change the domain name to the new domain name\n",
    "- store all the updated domain names in a new file in ```data/updated_user_emails.csv```"
   ]
  },
  {
   "cell_type": "markdown",
   "metadata": {},
   "source": [
    "Updating file permissions:\n",
    "\n",
    "- `sudo chmod 777 script.py`"
   ]
  },
  {
   "cell_type": "markdown",
   "metadata": {},
   "source": [
    "### Identify the old domain\n",
    "\n",
    "#### *contains_domain*\n",
    "In this section, we will write the body of the function named contains_domain. This function uses regex to identify the domain of the user email addresses in the `user_emails.csv` file.\n",
    "\n",
    "The function takes address and domain as parameters, and its primary objective is to check whether an email address belongs to the old domain(`abc.edu`).\n",
    "\n",
    "To do this, we will use a regular expression stored in the variable named `domain_pattern`. This variable will now match email addresses of a particular domain. If the old domain is found, then the function returns true."
   ]
  },
  {
   "cell_type": "markdown",
   "metadata": {},
   "source": [
    "### Replace the domain name\n",
    "\n",
    "#### *replace_domain*\n",
    "\n",
    "The `replace_domain` function takes in one email address at a time, as well as the email's old domain name and its new domain name. This function's primary objective is to replace the email addresses containing the old domain name with new domain name.\n",
    "\n",
    "In order to replace the domain name, we will use the regular expression module and make a pattern that identifies sub-strings containing the old domain name within email addresses. We will then store this pattern in a variable called `old_domain_pattern`. Next, we will use substitution function `sub()` from `re` module to replace the old domain name with the new one and return the updated email address."
   ]
  },
  {
   "cell_type": "markdown",
   "metadata": {},
   "source": [
    "### Write a CSV file with replaced domain from main\n",
    "\n",
    "#### main\n",
    "\n",
    "In this case, we are first going to read data from the list (which is a CSV file). The data is read from the `user_emails.csv` file and passed to the `user_data_list`. So the `user_data_list` now contains the same information as that present in `user_emails.csv` file. While we do this, we will also add all the email addresses into the `user_email_list` that we initialized in the previous step.\n",
    "\n",
    "The list `old_domain_email_list` should contain all the email addresses with the old domain. This will be checked by the function contains_domain. The function replace_domain will then take in the email addresses (with old domain) and replace them with the new domains."
   ]
  },
  {
   "cell_type": "markdown",
   "metadata": {},
   "source": [
    "``` cat ~/data/updated_user_emails.csv ```\n",
    "\n",
    "Full Name, Email Address\n",
    "\n",
    "Blossom Gill, blossom@xyz.edu\n",
    "\n",
    "Hayes Delgado, nonummy@utnisia.com\n",
    "\n",
    "Petra Jones, ac@xyz.edu\n",
    "\n",
    "Oleg Noel, noel@liberomauris.ca\n",
    "\n",
    "Ahmed Miller, ahmed.miller@nequenonquam.co.uk\n",
    "\n",
    "Macaulay Douglas, mdouglas@xyz.edu\n",
    "\n",
    "Aurora Grant, enim.non@xyz.edu\n",
    "\n",
    "Madison Mcintosh, mcintosh@nisiaenean.net\n",
    "\n",
    "Montana Powell, montanap@semmagna.org\n",
    "\n",
    "Rogan Robinson, rr.robinson@xyz.edu\n",
    "\n",
    "Simon Rivera, sri@xyz.edu\n",
    "\n",
    "Benedict Pacheco, bpacheco@xyz.edu\n",
    "\n",
    "Maisie Hendrix, mai.hendrix@xyz.edu\n",
    "\n",
    "Xaviera Gould, xlg@utnisia.net\n",
    "\n",
    "Oren Rollins, oren@semmagna.com\n",
    "\n",
    "Flavia Santiago, flavia@utnisia.net\n",
    "\n",
    "Jackson Owens, jackowens@xyz.edu\n",
    "\n",
    "Britanni Humphrey, britanni@ut.net\n",
    "\n",
    "Kirk Nixon, kirknixon@xyz.edu\n",
    "\n",
    "Bree Campbell, breee@utnisia.net"
   ]
  },
  {
   "cell_type": "code",
   "execution_count": null,
   "metadata": {},
   "outputs": [],
   "source": []
  }
 ],
 "metadata": {
  "kernelspec": {
   "display_name": "Python 3",
   "language": "python",
   "name": "python3"
  },
  "language_info": {
   "codemirror_mode": {
    "name": "ipython",
    "version": 3
   },
   "file_extension": ".py",
   "mimetype": "text/x-python",
   "name": "python",
   "nbconvert_exporter": "python",
   "pygments_lexer": "ipython3",
   "version": "3.7.3"
  }
 },
 "nbformat": 4,
 "nbformat_minor": 2
}
