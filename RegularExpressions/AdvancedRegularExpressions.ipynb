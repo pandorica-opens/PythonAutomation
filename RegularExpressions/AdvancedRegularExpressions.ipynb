{
 "cells": [
  {
   "cell_type": "markdown",
   "metadata": {},
   "source": [
    "### Capturing groups\n",
    "\n",
    "in ( )"
   ]
  },
  {
   "cell_type": "code",
   "execution_count": 4,
   "metadata": {},
   "outputs": [],
   "source": [
    "import re\n",
    "### we defined two separate groups\n",
    "result = re.search(r\"^(\\w*), (\\w*)\", 'Lovelace, Ada')"
   ]
  },
  {
   "cell_type": "code",
   "execution_count": 5,
   "metadata": {},
   "outputs": [
    {
     "name": "stdout",
     "output_type": "stream",
     "text": [
      "<re.Match object; span=(0, 13), match='Lovelace, Ada'>\n"
     ]
    }
   ],
   "source": [
    "print(result)"
   ]
  },
  {
   "cell_type": "code",
   "execution_count": 7,
   "metadata": {},
   "outputs": [
    {
     "name": "stdout",
     "output_type": "stream",
     "text": [
      "('Lovelace', 'Ada')\n"
     ]
    }
   ],
   "source": [
    "print(result.groups())"
   ]
  },
  {
   "cell_type": "code",
   "execution_count": null,
   "metadata": {},
   "outputs": [],
   "source": [
    "we can also use indexing"
   ]
  },
  {
   "cell_type": "code",
   "execution_count": 8,
   "metadata": {},
   "outputs": [
    {
     "data": {
      "text/plain": [
       "'Lovelace, Ada'"
      ]
     },
     "execution_count": 8,
     "metadata": {},
     "output_type": "execute_result"
    }
   ],
   "source": [
    "result[0]"
   ]
  },
  {
   "cell_type": "code",
   "execution_count": 9,
   "metadata": {},
   "outputs": [
    {
     "data": {
      "text/plain": [
       "'Lovelace'"
      ]
     },
     "execution_count": 9,
     "metadata": {},
     "output_type": "execute_result"
    }
   ],
   "source": [
    "result[1]"
   ]
  },
  {
   "cell_type": "code",
   "execution_count": 10,
   "metadata": {},
   "outputs": [
    {
     "data": {
      "text/plain": [
       "'Ada'"
      ]
     },
     "execution_count": 10,
     "metadata": {},
     "output_type": "execute_result"
    }
   ],
   "source": [
    "result[2]"
   ]
  },
  {
   "cell_type": "code",
   "execution_count": 11,
   "metadata": {},
   "outputs": [
    {
     "data": {
      "text/plain": [
       "'Ada Lovelace'"
      ]
     },
     "execution_count": 11,
     "metadata": {},
     "output_type": "execute_result"
    }
   ],
   "source": [
    "\"{} {}\".format(result[2],result[1])"
   ]
  },
  {
   "cell_type": "code",
   "execution_count": 14,
   "metadata": {},
   "outputs": [
    {
     "name": "stdout",
     "output_type": "stream",
     "text": [
      "John F. Kennedy\n",
      "John Kennedy\n"
     ]
    }
   ],
   "source": [
    "import re\n",
    "def rearrange_name(name):\n",
    "  result = re.search(r\"^(\\w*), (\\w* ?.?\\.?)$\", name)\n",
    "  if result == None:\n",
    "    return name\n",
    "  return \"{} {}\".format(result[2], result[1])\n",
    "\n",
    "name=rearrange_name(\"Kennedy, John F.\")\n",
    "print(name)\n",
    "name=rearrange_name(\"Kennedy, John\")\n",
    "print(name)"
   ]
  },
  {
   "cell_type": "markdown",
   "metadata": {},
   "source": [
    "### Repetition qualifiers"
   ]
  },
  {
   "cell_type": "markdown",
   "metadata": {},
   "source": [
    "pattern, that repeats some fixed amount of times/ string of specific length: { }"
   ]
  },
  {
   "cell_type": "code",
   "execution_count": 16,
   "metadata": {},
   "outputs": [
    {
     "data": {
      "text/plain": [
       "<re.Match object; span=(0, 5), match='Fivel'>"
      ]
     },
     "execution_count": 16,
     "metadata": {},
     "output_type": "execute_result"
    }
   ],
   "source": [
    "re.search(r\"[a-zA-Z]{5}\", 'Fivel')"
   ]
  },
  {
   "cell_type": "markdown",
   "metadata": {},
   "source": [
    "#### we match some word, that is 5 letters longer "
   ]
  },
  {
   "cell_type": "code",
   "execution_count": 17,
   "metadata": {},
   "outputs": [
    {
     "data": {
      "text/plain": [
       "<re.Match object; span=(5, 10), match='lette'>"
      ]
     },
     "execution_count": 17,
     "metadata": {},
     "output_type": "execute_result"
    }
   ],
   "source": [
    "re.search(r\"[a-zA-Z]{5}\", 'Five letters')"
   ]
  },
  {
   "cell_type": "code",
   "execution_count": 19,
   "metadata": {},
   "outputs": [
    {
     "data": {
      "text/plain": [
       "['lette']"
      ]
     },
     "execution_count": 19,
     "metadata": {},
     "output_type": "execute_result"
    }
   ],
   "source": [
    "re.findall(r\"[a-zA-Z]{5}\", 'Five letters')"
   ]
  },
  {
   "cell_type": "code",
   "execution_count": 22,
   "metadata": {},
   "outputs": [
    {
     "data": {
      "text/plain": [
       "['seven', 'eight']"
      ]
     },
     "execution_count": 22,
     "metadata": {},
     "output_type": "execute_result"
    }
   ],
   "source": [
    "re.findall(r\"\\b[a-zA-Z]{5}\\b\", 'Five letters seven eight')"
   ]
  },
  {
   "cell_type": "code",
   "execution_count": 30,
   "metadata": {},
   "outputs": [
    {
     "data": {
      "text/plain": [
       "['letters', 'seven', 'eight', 'longlonglong']"
      ]
     },
     "execution_count": 30,
     "metadata": {},
     "output_type": "execute_result"
    }
   ],
   "source": [
    "re.findall(r\"[a-zA-Z]{5,12}\", 'Five letters seven eight longlonglong')"
   ]
  },
  {
   "cell_type": "code",
   "execution_count": 32,
   "metadata": {},
   "outputs": [
    {
     "data": {
      "text/plain": [
       "['letters', 'seven', 'eight', 'longlonglo']"
      ]
     },
     "execution_count": 32,
     "metadata": {},
     "output_type": "execute_result"
    }
   ],
   "source": [
    "# length 5 to 10\n",
    "re.findall(r\"\\w{5,10}\", 'Five letters seven eight longlonglong')"
   ]
  },
  {
   "cell_type": "code",
   "execution_count": 33,
   "metadata": {},
   "outputs": [
    {
     "data": {
      "text/plain": [
       "['letters', 'seven', 'eight', 'longlonglong']"
      ]
     },
     "execution_count": 33,
     "metadata": {},
     "output_type": "execute_result"
    }
   ],
   "source": [
    "# starting from length 5\n",
    "re.findall(r\"\\w{5,}\", 'Five letters seven eight longlonglong')"
   ]
  },
  {
   "cell_type": "markdown",
   "metadata": {},
   "source": [
    "The long_words function returns all words that are at least 7 characters."
   ]
  },
  {
   "cell_type": "code",
   "execution_count": 35,
   "metadata": {},
   "outputs": [
    {
     "name": "stdout",
     "output_type": "stream",
     "text": [
      "['morning']\n",
      "['chocolate', 'afternoon']\n",
      "[]\n"
     ]
    }
   ],
   "source": [
    "import re\n",
    "def long_words(text):\n",
    "  pattern = r\"\\w{7,}\"\n",
    "  result = re.findall(pattern, text)\n",
    "  return result\n",
    "\n",
    "print(long_words(\"I like to drink coffee in the morning.\")) # ['morning']\n",
    "print(long_words(\"I also have a taste for hot chocolate in the afternoon.\")) # ['chocolate', 'afternoon']\n",
    "print(long_words(\"I never drink tea late at night.\")) # []\n"
   ]
  },
  {
   "cell_type": "markdown",
   "metadata": {},
   "source": [
    "\\d (digit) matches any single digit (same as [0-9] ). The uppercase counterpart \\D (non-digit) matches any single character that is not a digit (same as [^0-9] )"
   ]
  },
  {
   "cell_type": "markdown",
   "metadata": {},
   "source": [
    "#### Extracting PID\n",
    "Add to the regular expression used in the extract_pid function, to return the uppercase message in parenthesis, after the process id."
   ]
  },
  {
   "cell_type": "code",
   "execution_count": 40,
   "metadata": {},
   "outputs": [
    {
     "name": "stdout",
     "output_type": "stream",
     "text": [
      "12345 (ERROR)\n",
      "None\n",
      "None\n",
      "67890 (RUNNING)\n"
     ]
    }
   ],
   "source": [
    "import re\n",
    "def extract_pid(log_line):\n",
    "    regex = r\"\\[(\\d+)\\]: ([A-Z]*)\"\n",
    "    result = re.search(regex, log_line)\n",
    "    #print(result)\n",
    "    if result is None:\n",
    "        return None\n",
    "    return \"{} ({})\".format(result[1], result[2])\n",
    "\n",
    "print(extract_pid(\"July 31 07:51:48 mycomputer bad_process[12345]: ERROR Performing package upgrade\")) # 12345 (ERROR)\n",
    "print(extract_pid(\"99 elephants in a [cage]\")) # None\n",
    "print(extract_pid(\"A string that also has numbers [34567] but no uppercase message\")) # None\n",
    "print(extract_pid(\"July 31 08:08:08 mycomputer new_process[67890]: RUNNING Performing backup\")) # 67890 (RUNNING)"
   ]
  },
  {
   "cell_type": "markdown",
   "metadata": {},
   "source": [
    "You nailed it! You're using the tools you've learned in the\n",
    "previous lessons, and it shows!"
   ]
  },
  {
   "cell_type": "markdown",
   "metadata": {},
   "source": [
    "#### Splitting and replacing"
   ]
  },
  {
   "cell_type": "code",
   "execution_count": 42,
   "metadata": {},
   "outputs": [
    {
     "data": {
      "text/plain": [
       "['One sentence', ' Another one', ' One more', '']"
      ]
     },
     "execution_count": 42,
     "metadata": {},
     "output_type": "execute_result"
    }
   ],
   "source": [
    "re.split(r\"[.?!]\", \"One sentence. Another one? One more!\")\n",
    "\n",
    "### here we can see empty string in the end"
   ]
  },
  {
   "cell_type": "code",
   "execution_count": 43,
   "metadata": {},
   "outputs": [
    {
     "data": {
      "text/plain": [
       "['One sentence', '.', ' Another one', '?', ' One more', '!', '']"
      ]
     },
     "execution_count": 43,
     "metadata": {},
     "output_type": "execute_result"
    }
   ],
   "source": [
    "re.split(r\"([.?!])\", \"One sentence. Another one? One more!\")\n",
    "### then we can also include the [.?!]"
   ]
  },
  {
   "cell_type": "code",
   "execution_count": 44,
   "metadata": {},
   "outputs": [
    {
     "data": {
      "text/plain": [
       "'the information was recieved from [REDACTED]'"
      ]
     },
     "execution_count": 44,
     "metadata": {},
     "output_type": "execute_result"
    }
   ],
   "source": [
    "re.sub(r\"[\\w.%+-]+@[\\w.-]+\", \"[REDACTED]\", \"the information was recieved from nuts@gmail.com\")"
   ]
  },
  {
   "cell_type": "code",
   "execution_count": 48,
   "metadata": {},
   "outputs": [
    {
     "data": {
      "text/plain": [
       "'the information was recieved from [REDACTED]mail.com after'"
      ]
     },
     "execution_count": 48,
     "metadata": {},
     "output_type": "execute_result"
    }
   ],
   "source": [
    "re.sub(r\"[\\w.%+-]+@[\\w.-]\", \"[REDACTED]\", \"the information was recieved from nuts@gmail.com after\")"
   ]
  },
  {
   "cell_type": "code",
   "execution_count": 51,
   "metadata": {},
   "outputs": [
    {
     "data": {
      "text/plain": [
       "'the information was recieved from [REDACTED] after'"
      ]
     },
     "execution_count": 51,
     "metadata": {},
     "output_type": "execute_result"
    }
   ],
   "source": [
    "re.sub(r\"[\\w.%+-]+@[\\w.-]+\", \"[REDACTED]\", \"the information was recieved from nuts@gmail.com after\")"
   ]
  },
  {
   "cell_type": "markdown",
   "metadata": {},
   "source": [
    "A regular expression followed by a plus sign ( + ) matches one or more occurrences of the one-character regular expression. "
   ]
  },
  {
   "cell_type": "code",
   "execution_count": null,
   "metadata": {},
   "outputs": [],
   "source": []
  }
 ],
 "metadata": {
  "kernelspec": {
   "display_name": "Python 3",
   "language": "python",
   "name": "python3"
  },
  "language_info": {
   "codemirror_mode": {
    "name": "ipython",
    "version": 3
   },
   "file_extension": ".py",
   "mimetype": "text/x-python",
   "name": "python",
   "nbconvert_exporter": "python",
   "pygments_lexer": "ipython3",
   "version": "3.7.3"
  }
 },
 "nbformat": 4,
 "nbformat_minor": 2
}
