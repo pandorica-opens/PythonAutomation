{
 "cells": [
  {
   "cell_type": "markdown",
   "metadata": {},
   "source": [
    "# One of the reasons for crashing: trying to access invalid memory\n",
    "\n",
    "- **accessing invalid memory** means that the process tried to access a portion of the system's memory that wasn't assigned to it\n",
    "    - programming errors might lead to a process trying to read or write to a memory address outside of the valid range \n",
    "        - OS will raise an error like **segmentation fault** or **general protection fault**\n",
    "        - typically happens with low level languages: C or C++\n",
    "            - **pointers** - variables that store memory addresses in those languages - can point to invalid memory; if **0x0** - signal for the end of the structure (never a valid pointer)\n",
    "            - **Example of segmentation fault or segfault**: forget to initialize the variable, access list variable outside of list range, etc. -> **debugger** is the easiest way to pinpoint the problem! -> to do that, the programm needs to be **compiled with debugging symbols** -> same for fucntions if the error occurs in function -> **.PDB** in microsoft compilers\n",
    "        - #### Tools: Valgrind (macOS, Linux), Dr. Memory (Windows, Linux)\n",
    "            \n",
    "            \n",
    "#### Undefined behaviour: the code that is doing something that is not valid in the programming language\n",
    "    - system (linux vs. windows)\n",
    "    - version of libraries installed etc.\n",
    "    \n",
    "- **printf debugging** - general name comes from C programming language of printing info, that can be applierd everywhere (no matter `echo` in bash or `print`)\n",
    "- **logging module** sets debug messages to show up when the code fails.  \n",
    "- **core files** - store all the information related to the crash so that we, or someone else, can debug what's going on: \n",
    "\n",
    "\n",
    "### Debugging C\n",
    "\n",
    "```bash\n",
    "\n",
    "# execute buggy program\n",
    "./example\n",
    "# to have a full output: ulimit command is used to create a core file that stores information related to a crash\n",
    "ulimit -c unlimited\n",
    "./example\n",
    "# checking the core file, that was generated above\n",
    "ls -l core\n",
    "# pass core file to the gdb debugger and example, to tell where the executable ot the crash is located\n",
    "# gdb command will debug a core dump and stop where the failure was recorded\n",
    "gdb -c core example\n",
    "# look at the full backtrace of the crush: backtrace command can be used to show a summary of the function calls that were used to the point where the failure occurs\n",
    "backtrace\n",
    "# list command shows the lines around the failed line of code that is being reviewed in a backtrace\n",
    "list\n",
    "```\n",
    "\n",
    "### Debugging python\n",
    "\n",
    "```bash\n",
    "# run the crashing programm\n",
    "./update_products.py new_products.csv\n",
    "# run debugger\n",
    "pdb3 update_products.py new_products.csv\n",
    "# 'next' after starting the pdb3 debugger will run each line of instructions one at a time, but the code is to long\n",
    "\n",
    "# Running the 'continue' command after starting the pdb3 debugger will execute the program until it finishes or crashes\n",
    "(Pdb) continue\n",
    "(Pdb) print(row)\n",
    "\n",
    "# \\ufeff: Byte Order Mark (BOM) - tells difference between little endian/big endian -> change encoding to utf-8-sig\n",
    "# change: with open(options.filoename, 'r', encoding = 'utf-8-sig')\n",
    "./update_products.py new_products.csv\n",
    "# success\n",
    "```"
   ]
  },
  {
   "cell_type": "markdown",
   "metadata": {},
   "source": [
    "### Quick summary:\n",
    "- **breakpoints** will let code run until the certain line of code is executed;\n",
    "  - watchpoints\n",
    "- will cause *segmentation fault*:\n",
    "   - reading past the end of the array\n",
    "   - **stack overflow** - stack overflow is a run-time software bug when a program attempts to use more space than is available on the run-time stack, which typically results in a program crash\n",
    "   - **wild pointers** - uninitialized pointers are known as wild pointers because they point to some arbitrary memory location and may cause a program to crash or behave badly; Please note that if a pointer p points to a known variable then it's not a wild pointer.\n",
    "- **off-by-one error** - common error when iteration through arrays or other collections (forgetting about indexing, for i<=50 -> for i<50)\n",
    "- **printf debugging** - a very common method of debugging is to add print statements to our code that display information, such as contents of variables, custom error statements, or return values of functions\n",
    "- **core files**: when a process crashes, the operating system may generate a file containing information about the state of the process in memory to help the developer debug the program later; **core files** (or core dump files) record an image and status of a running process, and can be used to determine the cause of a crash.  "
   ]
  },
  {
   "cell_type": "markdown",
   "metadata": {},
   "source": [
    "# Complex Systems\n",
    "\n",
    "If system crashes after new iteration update:\n",
    "\n",
    " - easy way - to do the **rollback** (if it is easy in the system) to either find the reason for it, or eliminate the update as the reason\n",
    " - communicate to everyone involved\n",
    " - document what we are doing: operations performed\n",
    " - contact the Incident Commander or Incident Controller (if the problem is big)\n",
    "    \n",
    "Team: \n",
    "\n",
    " - **Incident Controller**: is in charge of delegating different tasks to team members. \n",
    " - **Communications lead**: provides timely updates on the incident and answers questions from users.  \n",
    " \n",
    "Effective Postmortems:\n",
    " - postmortems = documents that describe details of incidents to help us learn from our mistakes (& should not include the person(s) who caused the issue) -> main idea: what we can do better\n",
    " "
   ]
  },
  {
   "cell_type": "markdown",
   "metadata": {},
   "source": [
    "### Fixing small problems in Practice\n",
    "\n"
   ]
  },
  {
   "cell_type": "markdown",
   "metadata": {},
   "source": [
    "# Extra read:\n",
    "\n",
    "#### 1. Info about [Byte Order Mark (BOM)](https://stackoverflow.com/questions/17912307/u-ufeff-in-python-string/17912811)\n",
    "#### 2. Check out the following links for more information:\n",
    "\n",
    "- https://realpython.com/python-concurrency/\n",
    "- https://hackernoon.com/threaded-asynchronous-magic-and-how-to-wield-it-bba9ed602c32\n",
    "- https://stackoverflow.com/questions/33047452/definitive-list-of-common-reasons-for-segmentation-faults\n",
    "- https://sites.google.com/a/case.edu/hpcc/home/important-notes-for-new-users/debugging-segmentation-faults"
   ]
  }
 ],
 "metadata": {
  "kernelspec": {
   "display_name": "Python 3",
   "language": "python",
   "name": "python3"
  },
  "language_info": {
   "codemirror_mode": {
    "name": "ipython",
    "version": 3
   },
   "file_extension": ".py",
   "mimetype": "text/x-python",
   "name": "python",
   "nbconvert_exporter": "python",
   "pygments_lexer": "ipython3",
   "version": "3.7.3"
  }
 },
 "nbformat": 4,
 "nbformat_minor": 4
}
