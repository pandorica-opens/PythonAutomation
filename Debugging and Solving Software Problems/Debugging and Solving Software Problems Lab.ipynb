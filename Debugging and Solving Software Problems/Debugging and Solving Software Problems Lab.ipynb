{
 "cells": [
  {
   "cell_type": "markdown",
   "metadata": {},
   "source": [
    "### Code is designed to read some data files with information on employees and then generate a report.\n",
    "\n",
    "Grant the executable and editable file permission to the `start_date_report.py`\n",
    "\n",
    "- `sudo chmod 777 ~/start_date_report.py`\n",
    "- `./start_date_report.py`\n",
    "\n",
    "#### Enter the values for the year, month, and day respectively as the prompt appears.: i.e. 2019, 1, 1 for consistency"
   ]
  },
  {
   "cell_type": "markdown",
   "metadata": {},
   "source": [
    "Once debugging the issue, the program will start processing the file but it takes a long time to complete. This is because the program goes slowly line by line instead of printing the report quickly. In this section, we find bottlenecks, improve the code, and make it finish faster. An optimized script should generate reports for the same date within a few seconds.\n",
    "\n",
    "#### To check the execution time of a script, add a prefix \"time\" and run the script.\n",
    "\n",
    "`time ./start_date_report.py`\n",
    "\n",
    "#### Initial runtime: \n",
    "\n",
    "- real\t0m9.159s\n",
    "- user\t0m3.372s\n",
    "- sys\t0m0.164s\n",
    "\n",
    "#### Resulting runtime:\n",
    "\n",
    "- real\t0m3.567s\n",
    "- user\t0m0.148s\n",
    "- sys\t0m0.016s"
   ]
  },
  {
   "cell_type": "code",
   "execution_count": null,
   "metadata": {},
   "outputs": [],
   "source": []
  }
 ],
 "metadata": {
  "kernelspec": {
   "display_name": "Python 3",
   "language": "python",
   "name": "python3"
  },
  "language_info": {
   "codemirror_mode": {
    "name": "ipython",
    "version": 3
   },
   "file_extension": ".py",
   "mimetype": "text/x-python",
   "name": "python",
   "nbconvert_exporter": "python",
   "pygments_lexer": "ipython3",
   "version": "3.7.3"
  }
 },
 "nbformat": 4,
 "nbformat_minor": 4
}
