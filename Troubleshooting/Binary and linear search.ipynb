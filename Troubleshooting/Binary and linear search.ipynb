{
 "cells": [
  {
   "cell_type": "markdown",
   "metadata": {},
   "source": [
    "### Search Repetition\n",
    "\n",
    "- **binary** (use on sorted list) - makes sence if we search it several times, sorting and searching over it once is comp not feasible - i.e. bisecting the list of files to check or variables in config file\n",
    "    - `git bisect` (to find the commit that broke perf)\n",
    "- **linear** (with not sortted) - simpler, faster"
   ]
  },
  {
   "cell_type": "code",
   "execution_count": 7,
   "metadata": {},
   "outputs": [],
   "source": [
    "def linear_search(list, key):\n",
    "    \"\"\"If key is in the list returns its position in the list,\n",
    "       otherwise returns -1.\"\"\"\n",
    "    for i, item in enumerate(list):\n",
    "        if item == key:\n",
    "            return i\n",
    "    return -1"
   ]
  },
  {
   "cell_type": "code",
   "execution_count": 8,
   "metadata": {},
   "outputs": [],
   "source": [
    "def binary_search(list, key):\n",
    "    \"\"\"Returns the position of key in the list if found, -1 otherwise.\n",
    "\n",
    "    List must be sorted.\n",
    "    \"\"\"\n",
    "    left = 0\n",
    "    right = len(list) - 1\n",
    "    while left <= right:\n",
    "        middle = (left + right) // 2\n",
    "        \n",
    "        if list[middle] == key:\n",
    "            return middle\n",
    "        if list[middle] > key:\n",
    "            right = middle - 1\n",
    "        if list[middle] < key:\n",
    "            left = middle + 1\n",
    "    return -1\n"
   ]
  },
  {
   "cell_type": "markdown",
   "metadata": {},
   "source": [
    "- `wc` - counts the number of characters, words and lines in a file\n",
    "- `wc -l` - number of lines in a file\n",
    "- `head/tail -20` = first/last 20 lines of file\n",
    "so for binary search for file of 100 lines passing as input:\n",
    "        - head -50 contacts.csv | ./import.py --server test\n",
    "        - or use in a pipe i.e.: head -50 contacts.csv | tail -25 | head -13 |./import.py --server test\n"
   ]
  },
  {
   "cell_type": "code",
   "execution_count": 9,
   "metadata": {},
   "outputs": [
    {
     "name": "stdout",
     "output_type": "stream",
     "text": [
      "True\n",
      "False\n",
      "True\n",
      "False\n"
     ]
    }
   ],
   "source": [
    "def find_item(list, item):\n",
    "  #Returns True if the item is in the list, False if not.\n",
    "  if len(list) == 0:\n",
    "    return False\n",
    "\n",
    "  # First we need to sort the list\n",
    "  list.sort()\n",
    "  # Sort the list\n",
    "\n",
    "  #Is the item in the center of the list?\n",
    "  middle = len(list)//2\n",
    "  #print(middle, list[middle], item)\n",
    "  if list[middle] == item:\n",
    "    return True\n",
    "\n",
    "  #Is the item in the first half of the list? \n",
    "  if item < list[middle]:\n",
    "    #Call the function with the first half of the list\n",
    "    return find_item(list[:middle], item)\n",
    "  else:\n",
    "    #Call the function with the second half of the list\n",
    "    return find_item(list[middle+1:], item)\n",
    "\n",
    "  return False\n",
    "\n",
    "#Do not edit below this line - This code helps check your work!\n",
    "list_of_names = [\"Parker\", \"Drew\", \"Cameron\", \"Logan\", \"Alex\", \"Chris\", \"Terry\", \"Jamie\", \"Jordan\", \"Taylor\"]\n",
    "\n",
    "print(find_item(list_of_names, \"Alex\")) # True\n",
    "print(find_item(list_of_names, \"Andrew\")) # False\n",
    "print(find_item(list_of_names, \"Drew\")) # True\n",
    "print(find_item(list_of_names, \"Jared\")) # False"
   ]
  },
  {
   "cell_type": "code",
   "execution_count": 10,
   "metadata": {},
   "outputs": [
    {
     "ename": "SyntaxError",
     "evalue": "invalid syntax (<ipython-input-10-dc4e97c5dd0a>, line 51)",
     "output_type": "error",
     "traceback": [
      "\u001b[0;36m  File \u001b[0;32m\"<ipython-input-10-dc4e97c5dd0a>\"\u001b[0;36m, line \u001b[0;32m51\u001b[0m\n\u001b[0;31m    \"\"\"\"\"\"Should print 4 debug lines and the \"not found\" value of -1:\u001b[0m\n\u001b[0m               ^\u001b[0m\n\u001b[0;31mSyntaxError\u001b[0m\u001b[0;31m:\u001b[0m invalid syntax\n"
     ]
    }
   ],
   "source": [
    "def binary_search(list, key):\n",
    "    #Returns the position of key in the list if found, -1 otherwise.\n",
    "\n",
    "    #List must be sorted:\n",
    "    list.sort()\n",
    "    left = 0\n",
    "    right = len(list) - 1\n",
    "\n",
    "    while left <= right:\n",
    "        middle = (left + right) // 2\n",
    "\n",
    "        if list[middle] == key:\n",
    "            return middle\n",
    "        if list[middle] > key:\n",
    "            print('Checking the left side')\n",
    "            right = middle - 1\n",
    "        if list[middle] < key:\n",
    "            print('Checking the right side')\n",
    "            left = middle + 1\n",
    "    return -1 \n",
    "\n",
    "print(binary_search([10, 2, 9, 6, 7, 1, 5, 3, 4, 8], 1))\n",
    "\"\"\"Should print 2 debug lines and the return value:\n",
    "Checking the left side\n",
    "Checking the left side\n",
    "0\n",
    "\"\"\"\n",
    "\n",
    "print(binary_search([1, 2, 3, 4, 5, 6, 7, 8, 9, 10], 5))\n",
    "\"\"\"Should print no debug lines, as it's located immediately:\n",
    "4\n",
    "\"\"\"\n",
    "\n",
    "print(binary_search([10, 9, 8, 7, 6, 5, 4, 3, 2, 1], 7))\n",
    "\"\"\"Should print 3 debug lines and the return value:\n",
    "Checking the right side\n",
    "Checking the left side\n",
    "Checking the right side\n",
    "6\n",
    "\"\"\"\n",
    "\n",
    "print(binary_search([1, 3, 5, 7, 9, 10, 2, 4, 6, 8], 10))\n",
    "\"\"\"Should print 3 debug lines and the return value:\n",
    "Checking the right side\n",
    "Checking the right side\n",
    "Checking the right side\n",
    "9\n",
    "\"\"\"\n",
    "\n",
    "print(binary_search([5, 1, 8, 2, 4, 10, 7, 6, 3, 9], 11))\n",
    "\"\"\"\"\"\"Should print 4 debug lines and the \"not found\" value of -1:\n",
    "Checking the right side\n",
    "Checking the right side\n",
    "Checking the right side\n",
    "Checking the right side\n",
    "-1\n",
    "\"\"\""
   ]
  },
  {
   "cell_type": "code",
   "execution_count": 11,
   "metadata": {},
   "outputs": [
    {
     "name": "stdout",
     "output_type": "stream",
     "text": [
      "Linear: 1 steps, Binary: 4 steps. Best Search is Linear.\n",
      "Linear: 4 steps, Binary: 4 steps. Result is a Tie.\n",
      "Linear: 4 steps, Binary: 5 steps. Best Search is Linear.\n",
      "Linear: 6 steps, Binary: 5 steps. Best Search is Binary.\n",
      "Linear: 10 steps, Binary: 5 steps. Best Search is Binary.\n"
     ]
    }
   ],
   "source": [
    "def linear_search(list, key):\n",
    "    #Returns the number of steps to determine if key is in the list \n",
    "\n",
    "    #Initialize the counter of steps\n",
    "    steps=0\n",
    "    for i, item in enumerate(list):\n",
    "        steps += 1\n",
    "        if item == key:\n",
    "            return steps\n",
    "    return steps\n",
    "\n",
    "def binary_search(list, key):\n",
    "    #Returns the number of steps to determine if key is in the list \n",
    "\n",
    "    #List must be sorted:\n",
    "    list.sort()\n",
    "\n",
    "    #The Sort was 1 step, so initialize the counter of steps to 1\n",
    "    steps=1\n",
    "\n",
    "    left = 0\n",
    "    right = len(list) - 1\n",
    "    while left <= right:\n",
    "        steps += 1\n",
    "        middle = (left + right) // 2\n",
    "        \n",
    "        if list[middle] == key:\n",
    "            return steps\n",
    "        if list[middle] > key:\n",
    "            right = middle - 1\n",
    "        if list[middle] < key:\n",
    "            left = middle + 1\n",
    "    return steps \n",
    "\n",
    "def best_search(list, key):\n",
    "    steps_linear = linear_search(list, key)\n",
    "    steps_binary = binary_search(list, key) \n",
    "    results = \"Linear: \" + str(steps_linear) + \" steps, \"\n",
    "    results += \"Binary: \" + str(steps_binary) + \" steps. \"\n",
    "    if (steps_linear<steps_binary):\n",
    "        results += \"Best Search is Linear.\"\n",
    "    elif (steps_linear>steps_binary):\n",
    "        results += \"Best Search is Binary.\"\n",
    "    else:\n",
    "        results += \"Result is a Tie.\"\n",
    "\n",
    "    return results\n",
    "\n",
    "print(best_search([1, 2, 3, 4, 5, 6, 7, 8, 9, 10], 1))\n",
    "#Should be: Linear: 1 steps, Binary: 4 steps. Best Search is Linear.\n",
    "\n",
    "print(best_search([10, 2, 9, 1, 7, 5, 3, 4, 6, 8], 1))\n",
    "#Should be: Linear: 4 steps, Binary: 4 steps. Result is a Tie.\n",
    "\n",
    "print(best_search([10, 9, 8, 7, 6, 5, 4, 3, 2, 1], 7))\n",
    "#Should be: Linear: 4 steps, Binary: 5 steps. Best Search is Linear.\n",
    "\n",
    "print(best_search([1, 3, 5, 7, 9, 10, 2, 4, 6, 8], 10))\n",
    "#Should be: Linear: 6 steps, Binary: 5 steps. Best Search is Binary.\n",
    "\n",
    "print(best_search([5, 1, 8, 2, 4, 10, 7, 6, 3, 9], 11))\n",
    "#Should be: Linear: 10 steps, Binary: 5 steps. Best Search is Binary."
   ]
  },
  {
   "cell_type": "code",
   "execution_count": null,
   "metadata": {},
   "outputs": [],
   "source": []
  }
 ],
 "metadata": {
  "kernelspec": {
   "display_name": "Python 3",
   "language": "python",
   "name": "python3"
  },
  "language_info": {
   "codemirror_mode": {
    "name": "ipython",
    "version": 3
   },
   "file_extension": ".py",
   "mimetype": "text/x-python",
   "name": "python",
   "nbconvert_exporter": "python",
   "pygments_lexer": "ipython3",
   "version": "3.7.3"
  }
 },
 "nbformat": 4,
 "nbformat_minor": 4
}
