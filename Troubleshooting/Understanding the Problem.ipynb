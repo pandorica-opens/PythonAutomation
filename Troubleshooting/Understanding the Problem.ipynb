{
 "cells": [
  {
   "cell_type": "markdown",
   "metadata": {},
   "source": [
    "## Troubleshooting (fixing any kind of problem - ususally problems in the system running the application) vs debugging (fixing the code)\n",
    "\n",
    "\n",
    "- `tcpdump`, `Wireshark` = ongoing network connections, analyze the traffic\n",
    "\n",
    "- `ps`, `top`, `free` = number and type of resourses used in a system\n",
    "\n",
    "- `strace` - **system calls** made by a program\n",
    "    - **system calls** - calls that the programs running on our computer make to the running kernel\n",
    "\n",
    "- `ltrace` - look at the library calls made by software\n"
   ]
  },
  {
   "cell_type": "markdown",
   "metadata": {},
   "source": [
    "### 0. get information\n",
    "### 1. try to have reproduction case\n",
    "### 2. finding the root cause of the problem\n",
    "### 3. necessary remediation - shirt term (clean fan)\n",
    "### 4. necessary remediation - long-term (monitoring system for overheating)\n",
    "\n",
    "- documenting what we do is a good practice C:"
   ]
  },
  {
   "cell_type": "code",
   "execution_count": 1,
   "metadata": {},
   "outputs": [
    {
     "name": "stdout",
     "output_type": "stream",
     "text": [
      "/bin/bash: strace: command not found\r\n"
     ]
    }
   ],
   "source": [
    "# works only on linux\n",
    "! strace -o outputfile.strace python test.py"
   ]
  },
  {
   "cell_type": "code",
   "execution_count": null,
   "metadata": {},
   "outputs": [],
   "source": [
    "# to scroll through a lot of text output after tracing system calls of a script + \n",
    "# ctrl+G\n",
    "! strace ./script.py | less  "
   ]
  },
  {
   "cell_type": "markdown",
   "metadata": {},
   "source": [
    "### Good questions for reporting the issue (basically github Q):\n",
    "- what were you trying to do?\n",
    "- what steps did you follow?\n",
    "- what was the expected result?\n",
    "- what was the actual result?\n",
    "\n",
    "### Elimination process:\n",
    "\n",
    "- Consider simplest explanations first, unless it is directly needed (but not to assume right away that it's the problem that we solved before, still ask Q!)\n",
    "- Try to reproduce the issue (rules out i.e. users computer as a problem - check whether the problem is related to i.e. specific website or not)\n",
    "\n",
    "- Investigate further:\n",
    "    - I.e. problem with server - running on linux machiene - connect using ssh\n",
    "    - Run `top` command (shows state of the computer and processed the most CPU)\n",
    "\n",
    "Load average:\n",
    "how much time processer is busy in a given minute (1 - busy for whole minute, so normally should not be above the amount of the processes of the computer), a **number higher than the amount of processes means that computer is overloaded** -> take a look at the processes -> find that most of the CPU time is spent waiting (processes are stuck waiting for the OS to return from system calls) - usually happends when processes stuck getting the data from hard drive or the network -> look at the list of processes -> backu system is currently running on the server & seems to be using a lot of processing time -> kill -STOP BackupSystem (suspend the execution until decide to terminate/continue the process) -> check for load again -> processes are not stuck waiting for I/O -> success C: (immediate remidiation)\n",
    "\n",
    "\n",
    "### Reproduction case:\n",
    "\n",
    "- a way to verify if the problem is present or not\n",
    "- sometimes can be tricky"
   ]
  },
  {
   "cell_type": "markdown",
   "metadata": {},
   "source": [
    "### What if the issue does not reproduce (i.e. everything works fine) \n",
    "-> maybe the problem from user's side, ie. network routing|old config file intefering with a new version of the program|permissions problem|hardware: need to narrow it down\n",
    "\n",
    "1. #### Read the logs avaliable\n",
    "- Linux: sysyemlogs at /var/log/syslog/ and user-specific logs the .xsession-errors located at the home dir\n",
    "- MacOS: on top of the system logs: /Library/Logs\n",
    "- Windows: use EventViewer tool\n",
    "\n",
    "2. #### If message is unhelpful/no error message, try to isolate the conditions that trigger the issue \n",
    "(other usr have same problem? same thing if usr logs into a different computer? config directory?)\n",
    "\n",
    "3. #### Clear reproduction case -> next step - finding the root cause"
   ]
  },
  {
   "cell_type": "markdown",
   "metadata": {},
   "source": [
    "### Find the root cause\n",
    "cycle over:\n",
    "1. look up the info we have\n",
    "2. come up with hypothesis that could explain the problem\n",
    "3. if does not explain the problem -> go to 1.\n",
    "\n",
    "Whenever possible, check the hypothesis in a test environment, instead of the production env that our users are working with. -> avoid intefering with usr  and see, wether the issue gets reproduced in test env\n"
   ]
  },
  {
   "cell_type": "markdown",
   "metadata": {},
   "source": [
    "## Tools to use in test env\n",
    "\n",
    "### too much disk Input, output\n",
    "- `iotop` (which processes are using input and output)\n",
    "- `iostat` - statistics on input/output operations\n",
    "- `vmstat` - statistics on virtual memory operations\n",
    "- `ionice` - make process i.e. back up to reduce the priority to acess the disk and let the web services use it too (if produces too much input/output)\n",
    "\n",
    "### server uses too much Network\n",
    "\n",
    "- `iftop` - shows the current traffic on the network interfaces\n",
    "-  `rsync -bwlimit` (if backup has the option to limit the bandwidth) or `Trickle` program\n",
    "\n",
    "### compression alg for backup is too agressive (uses max of service power)\n",
    "\n",
    "- `nice` - to reduce the priority of the process in accessing the CPU\n",
    "or reduce the comprassion rate\n",
    "\n",
    "\n"
   ]
  },
  {
   "cell_type": "markdown",
   "metadata": {},
   "source": [
    "### Reoccuring bugs that are hard to catch -> do extensive logging!\n",
    "\n",
    "- logging configuration \n",
    "    - load on the computer\n",
    "    - processes running at the same time\n",
    "    - the usage of the network\n",
    "- modify the code to get more information\n",
    "- debugging mode (yeppp)\n",
    "\n",
    "### Intermittent issues:\n",
    "\n",
    "- **Heisenbugs** are hard to catch -> observer effect: just observing the error alters its state -> usually point ot bad resourse management (i.e. memorry wrongly allocated,network connections weren't correctly initialized, open files were not properly handled) -> take a look at the effected code\n",
    "- **turn on/off** bugs :D - if **power cycling** releases resources stored in cache or memory, which gets rid of the problem - releasing all allocated memory, deleting tmp files, resetting the running state of problems, re-establishing network connections, closing open files... -> bug with software -> try to find fix or even automatic restart in the worst case\n"
   ]
  },
  {
   "cell_type": "code",
   "execution_count": null,
   "metadata": {},
   "outputs": [],
   "source": []
  }
 ],
 "metadata": {
  "kernelspec": {
   "display_name": "Python 3",
   "language": "python",
   "name": "python3"
  },
  "language_info": {
   "codemirror_mode": {
    "name": "ipython",
    "version": 3
   },
   "file_extension": ".py",
   "mimetype": "text/x-python",
   "name": "python",
   "nbconvert_exporter": "python",
   "pygments_lexer": "ipython3",
   "version": "3.7.3"
  }
 },
 "nbformat": 4,
 "nbformat_minor": 4
}
