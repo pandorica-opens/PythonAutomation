{
 "cells": [
  {
   "cell_type": "markdown",
   "metadata": {},
   "source": [
    "- Manual vs. automated testing\n",
    "  ### Automated testing includes: \n",
    "  \n",
    "  - test cases; automatic tests - codified into its own software\n",
    "  \n",
    "    - #### unit tests: \n",
    "    \n",
    "    very low level, close to the source of your application; can be testing individual methods and functions of the classes, components or modules used by your software. quite cheap to automate and can be run very quickly by a continuous integration server.\n",
    "    just testing the code in question (small isolated parts of programm is correct) -> isolation! any sucess or failure does not rely on external factors (no test or fail for extrnal reasons!)\n",
    "    \n",
    "    - #### integration tests: \n",
    "    \n",
    "    verify that different modules or services used by your application work well together\n",
    "    \n",
    "    - #### functional tests: \n",
    "    \n",
    "    only verify the output of an action and do not check the intermediate states of the system when performing that action.\n",
    "    \n",
    "    - end-to-end, acceptance, performance\n"
   ]
  },
  {
   "cell_type": "markdown",
   "metadata": {},
   "source": [
    "### Unit Test Cheat-Sheet\n",
    "\n",
    "Understand a Basic Example:\n",
    "\n",
    "https://docs.python.org/3/library/unittest.html#basic-example\n",
    "Understand how to run the tests using the Command Line:\n",
    "\n",
    "https://docs.python.org/3/library/unittest.html#command-line-interface\n",
    "Understand various Unit Test Design Patterns:\n",
    "\n",
    "https://docs.python.org/3/library/unittest.html#organizing-test-code\n",
    "Understand the uses of setUp, tearDown; setUpModule and tearDownModule\n",
    "Understand basic assertions:\n",
    "\n",
    "![basic assertions](assertions.png)\n"
   ]
  },
  {
   "cell_type": "code",
   "execution_count": null,
   "metadata": {},
   "outputs": [],
   "source": []
  }
 ],
 "metadata": {
  "kernelspec": {
   "display_name": "Python 3",
   "language": "python",
   "name": "python3"
  },
  "language_info": {
   "codemirror_mode": {
    "name": "ipython",
    "version": 3
   },
   "file_extension": ".py",
   "mimetype": "text/x-python",
   "name": "python",
   "nbconvert_exporter": "python",
   "pygments_lexer": "ipython3",
   "version": "3.7.3"
  }
 },
 "nbformat": 4,
 "nbformat_minor": 4
}
